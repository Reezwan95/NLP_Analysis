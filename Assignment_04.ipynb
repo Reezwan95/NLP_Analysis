{
  "nbformat": 4,
  "nbformat_minor": 0,
  "metadata": {
    "colab": {
      "provenance": []
    },
    "kernelspec": {
      "name": "python3",
      "display_name": "Python 3"
    },
    "language_info": {
      "name": "python"
    }
  },
  "cells": [
    {
      "cell_type": "code",
      "execution_count": 28,
      "metadata": {
        "id": "RVV3LS4rnAfp",
        "colab": {
          "base_uri": "https://localhost:8080/"
        },
        "outputId": "fd40602a-2918-47fe-f183-5614e0617c95"
      },
      "outputs": [
        {
          "output_type": "stream",
          "name": "stderr",
          "text": [
            "[nltk_data] Downloading package stopwords to /root/nltk_data...\n",
            "[nltk_data]   Package stopwords is already up-to-date!\n",
            "[nltk_data] Downloading package averaged_perceptron_tagger to\n",
            "[nltk_data]     /root/nltk_data...\n",
            "[nltk_data]   Package averaged_perceptron_tagger is already up-to-\n",
            "[nltk_data]       date!\n",
            "[nltk_data] Downloading package wordnet to /root/nltk_data...\n",
            "[nltk_data]   Package wordnet is already up-to-date!\n",
            "[nltk_data] Downloading package punkt to /root/nltk_data...\n",
            "[nltk_data]   Package punkt is already up-to-date!\n"
          ]
        },
        {
          "output_type": "stream",
          "name": "stdout",
          "text": [
            "Requirement already satisfied: svgling in /usr/local/lib/python3.10/dist-packages (0.4.0)\n",
            "Requirement already satisfied: svgwrite in /usr/local/lib/python3.10/dist-packages (from svgling) (1.4.3)\n",
            "Requirement already satisfied: datasets in /usr/local/lib/python3.10/dist-packages (2.17.0)\n",
            "Requirement already satisfied: filelock in /usr/local/lib/python3.10/dist-packages (from datasets) (3.13.1)\n",
            "Requirement already satisfied: numpy>=1.17 in /usr/local/lib/python3.10/dist-packages (from datasets) (1.23.5)\n",
            "Requirement already satisfied: pyarrow>=12.0.0 in /usr/local/lib/python3.10/dist-packages (from datasets) (15.0.0)\n",
            "Requirement already satisfied: pyarrow-hotfix in /usr/local/lib/python3.10/dist-packages (from datasets) (0.6)\n",
            "Requirement already satisfied: dill<0.3.9,>=0.3.0 in /usr/local/lib/python3.10/dist-packages (from datasets) (0.3.8)\n",
            "Requirement already satisfied: pandas in /usr/local/lib/python3.10/dist-packages (from datasets) (1.5.3)\n",
            "Requirement already satisfied: requests>=2.19.0 in /usr/local/lib/python3.10/dist-packages (from datasets) (2.31.0)\n",
            "Requirement already satisfied: tqdm>=4.62.1 in /usr/local/lib/python3.10/dist-packages (from datasets) (4.66.1)\n",
            "Requirement already satisfied: xxhash in /usr/local/lib/python3.10/dist-packages (from datasets) (3.4.1)\n",
            "Requirement already satisfied: multiprocess in /usr/local/lib/python3.10/dist-packages (from datasets) (0.70.16)\n",
            "Requirement already satisfied: fsspec[http]<=2023.10.0,>=2023.1.0 in /usr/local/lib/python3.10/dist-packages (from datasets) (2023.6.0)\n",
            "Requirement already satisfied: aiohttp in /usr/local/lib/python3.10/dist-packages (from datasets) (3.9.3)\n",
            "Requirement already satisfied: huggingface-hub>=0.19.4 in /usr/local/lib/python3.10/dist-packages (from datasets) (0.20.3)\n",
            "Requirement already satisfied: packaging in /usr/local/lib/python3.10/dist-packages (from datasets) (23.2)\n",
            "Requirement already satisfied: pyyaml>=5.1 in /usr/local/lib/python3.10/dist-packages (from datasets) (6.0.1)\n",
            "Requirement already satisfied: aiosignal>=1.1.2 in /usr/local/lib/python3.10/dist-packages (from aiohttp->datasets) (1.3.1)\n",
            "Requirement already satisfied: attrs>=17.3.0 in /usr/local/lib/python3.10/dist-packages (from aiohttp->datasets) (23.2.0)\n",
            "Requirement already satisfied: frozenlist>=1.1.1 in /usr/local/lib/python3.10/dist-packages (from aiohttp->datasets) (1.4.1)\n",
            "Requirement already satisfied: multidict<7.0,>=4.5 in /usr/local/lib/python3.10/dist-packages (from aiohttp->datasets) (6.0.5)\n",
            "Requirement already satisfied: yarl<2.0,>=1.0 in /usr/local/lib/python3.10/dist-packages (from aiohttp->datasets) (1.9.4)\n",
            "Requirement already satisfied: async-timeout<5.0,>=4.0 in /usr/local/lib/python3.10/dist-packages (from aiohttp->datasets) (4.0.3)\n",
            "Requirement already satisfied: typing-extensions>=3.7.4.3 in /usr/local/lib/python3.10/dist-packages (from huggingface-hub>=0.19.4->datasets) (4.9.0)\n",
            "Requirement already satisfied: charset-normalizer<4,>=2 in /usr/local/lib/python3.10/dist-packages (from requests>=2.19.0->datasets) (3.3.2)\n",
            "Requirement already satisfied: idna<4,>=2.5 in /usr/local/lib/python3.10/dist-packages (from requests>=2.19.0->datasets) (3.6)\n",
            "Requirement already satisfied: urllib3<3,>=1.21.1 in /usr/local/lib/python3.10/dist-packages (from requests>=2.19.0->datasets) (2.0.7)\n",
            "Requirement already satisfied: certifi>=2017.4.17 in /usr/local/lib/python3.10/dist-packages (from requests>=2.19.0->datasets) (2024.2.2)\n",
            "Requirement already satisfied: python-dateutil>=2.8.1 in /usr/local/lib/python3.10/dist-packages (from pandas->datasets) (2.8.2)\n",
            "Requirement already satisfied: pytz>=2020.1 in /usr/local/lib/python3.10/dist-packages (from pandas->datasets) (2023.4)\n",
            "Requirement already satisfied: six>=1.5 in /usr/local/lib/python3.10/dist-packages (from python-dateutil>=2.8.1->pandas->datasets) (1.16.0)\n"
          ]
        }
      ],
      "source": [
        "#Plot\n",
        "import matplotlib.pyplot as plt\n",
        "import seaborn as sns\n",
        "%matplotlib inline\n",
        "\n",
        "#Data Packages\n",
        "import math\n",
        "import pandas as pd\n",
        "import numpy as np\n",
        "\n",
        "#Progress bar\n",
        "from tqdm import tqdm\n",
        "\n",
        "#Counter\n",
        "from collections import Counter\n",
        "\n",
        "# Machine Learning\n",
        "import sklearn.metrics as metrics\n",
        "\n",
        "#Operation\n",
        "import operator\n",
        "\n",
        "#Natural Language Processing Packages\n",
        "import re\n",
        "import nltk\n",
        "\n",
        "## Download Resources\n",
        "nltk.download(\"stopwords\")\n",
        "nltk.download(\"averaged_perceptron_tagger\")\n",
        "nltk.download(\"wordnet\")\n",
        "nltk.download('punkt')\n",
        "\n",
        "from nltk.tokenize import word_tokenize, wordpunct_tokenize, sent_tokenize\n",
        "from nltk.corpus import stopwords\n",
        "\n",
        "from IPython.display import display\n",
        "\n",
        "%pip install svgling\n",
        "%pip install datasets\n",
        "\n",
        "pd.options.mode.chained_assignment = None"
      ]
    },
    {
      "cell_type": "code",
      "source": [
        "from datasets import load_dataset\n",
        "\n",
        "babe_dataset = load_dataset(\"mediabiasgroup/BABE-v3\")\n"
      ],
      "metadata": {
        "id": "KpNs70NTdOaz"
      },
      "execution_count": 29,
      "outputs": []
    },
    {
      "cell_type": "code",
      "source": [
        "# convert to df\n",
        "babe_df = pd.DataFrame(babe_dataset['train'])\n",
        "babe_df_cleaned = babe_df[['text', 'topic']]\n",
        "\n",
        "babe_df_cleaned.loc[:, 'topic'] = babe_df_cleaned.loc[:, 'topic'].apply(lambda\n",
        "                                                     x: \" \".join(x.split(\"-\")))\n",
        "\n",
        "# print number of unique topics\n",
        "print(\"Number of unique topics:\", len(babe_df_cleaned['topic'].unique()))\n",
        "\n",
        "babe_df_cleaned.head()"
      ],
      "metadata": {
        "id": "eJpI3Kgmhp1p",
        "colab": {
          "base_uri": "https://localhost:8080/",
          "height": 223
        },
        "outputId": "c019dbef-a06c-4269-950c-df5806088220"
      },
      "execution_count": 31,
      "outputs": [
        {
          "output_type": "stream",
          "name": "stdout",
          "text": [
            "Number of unique topics: 22\n"
          ]
        },
        {
          "output_type": "execute_result",
          "data": {
            "text/plain": [
              "                                                text         topic\n",
              "0  But instead of closing loopholes that allow cr...   gun control\n",
              "1            \"You think I'm joking,\" he continued. \"           blm\n",
              "2  Yes, the rich are rich and want to stay that w...         taxes\n",
              "3  Americans are carrying $1.57 trillion in outst...  student debt\n",
              "4  Republican state legislators from Texas to Ari...   gun control"
            ],
            "text/html": [
              "\n",
              "  <div id=\"df-3f037688-e4e9-4098-895e-d8d82e86ffa5\" class=\"colab-df-container\">\n",
              "    <div>\n",
              "<style scoped>\n",
              "    .dataframe tbody tr th:only-of-type {\n",
              "        vertical-align: middle;\n",
              "    }\n",
              "\n",
              "    .dataframe tbody tr th {\n",
              "        vertical-align: top;\n",
              "    }\n",
              "\n",
              "    .dataframe thead th {\n",
              "        text-align: right;\n",
              "    }\n",
              "</style>\n",
              "<table border=\"1\" class=\"dataframe\">\n",
              "  <thead>\n",
              "    <tr style=\"text-align: right;\">\n",
              "      <th></th>\n",
              "      <th>text</th>\n",
              "      <th>topic</th>\n",
              "    </tr>\n",
              "  </thead>\n",
              "  <tbody>\n",
              "    <tr>\n",
              "      <th>0</th>\n",
              "      <td>But instead of closing loopholes that allow cr...</td>\n",
              "      <td>gun control</td>\n",
              "    </tr>\n",
              "    <tr>\n",
              "      <th>1</th>\n",
              "      <td>\"You think I'm joking,\" he continued. \"</td>\n",
              "      <td>blm</td>\n",
              "    </tr>\n",
              "    <tr>\n",
              "      <th>2</th>\n",
              "      <td>Yes, the rich are rich and want to stay that w...</td>\n",
              "      <td>taxes</td>\n",
              "    </tr>\n",
              "    <tr>\n",
              "      <th>3</th>\n",
              "      <td>Americans are carrying $1.57 trillion in outst...</td>\n",
              "      <td>student debt</td>\n",
              "    </tr>\n",
              "    <tr>\n",
              "      <th>4</th>\n",
              "      <td>Republican state legislators from Texas to Ari...</td>\n",
              "      <td>gun control</td>\n",
              "    </tr>\n",
              "  </tbody>\n",
              "</table>\n",
              "</div>\n",
              "    <div class=\"colab-df-buttons\">\n",
              "\n",
              "  <div class=\"colab-df-container\">\n",
              "    <button class=\"colab-df-convert\" onclick=\"convertToInteractive('df-3f037688-e4e9-4098-895e-d8d82e86ffa5')\"\n",
              "            title=\"Convert this dataframe to an interactive table.\"\n",
              "            style=\"display:none;\">\n",
              "\n",
              "  <svg xmlns=\"http://www.w3.org/2000/svg\" height=\"24px\" viewBox=\"0 -960 960 960\">\n",
              "    <path d=\"M120-120v-720h720v720H120Zm60-500h600v-160H180v160Zm220 220h160v-160H400v160Zm0 220h160v-160H400v160ZM180-400h160v-160H180v160Zm440 0h160v-160H620v160ZM180-180h160v-160H180v160Zm440 0h160v-160H620v160Z\"/>\n",
              "  </svg>\n",
              "    </button>\n",
              "\n",
              "  <style>\n",
              "    .colab-df-container {\n",
              "      display:flex;\n",
              "      gap: 12px;\n",
              "    }\n",
              "\n",
              "    .colab-df-convert {\n",
              "      background-color: #E8F0FE;\n",
              "      border: none;\n",
              "      border-radius: 50%;\n",
              "      cursor: pointer;\n",
              "      display: none;\n",
              "      fill: #1967D2;\n",
              "      height: 32px;\n",
              "      padding: 0 0 0 0;\n",
              "      width: 32px;\n",
              "    }\n",
              "\n",
              "    .colab-df-convert:hover {\n",
              "      background-color: #E2EBFA;\n",
              "      box-shadow: 0px 1px 2px rgba(60, 64, 67, 0.3), 0px 1px 3px 1px rgba(60, 64, 67, 0.15);\n",
              "      fill: #174EA6;\n",
              "    }\n",
              "\n",
              "    .colab-df-buttons div {\n",
              "      margin-bottom: 4px;\n",
              "    }\n",
              "\n",
              "    [theme=dark] .colab-df-convert {\n",
              "      background-color: #3B4455;\n",
              "      fill: #D2E3FC;\n",
              "    }\n",
              "\n",
              "    [theme=dark] .colab-df-convert:hover {\n",
              "      background-color: #434B5C;\n",
              "      box-shadow: 0px 1px 3px 1px rgba(0, 0, 0, 0.15);\n",
              "      filter: drop-shadow(0px 1px 2px rgba(0, 0, 0, 0.3));\n",
              "      fill: #FFFFFF;\n",
              "    }\n",
              "  </style>\n",
              "\n",
              "    <script>\n",
              "      const buttonEl =\n",
              "        document.querySelector('#df-3f037688-e4e9-4098-895e-d8d82e86ffa5 button.colab-df-convert');\n",
              "      buttonEl.style.display =\n",
              "        google.colab.kernel.accessAllowed ? 'block' : 'none';\n",
              "\n",
              "      async function convertToInteractive(key) {\n",
              "        const element = document.querySelector('#df-3f037688-e4e9-4098-895e-d8d82e86ffa5');\n",
              "        const dataTable =\n",
              "          await google.colab.kernel.invokeFunction('convertToInteractive',\n",
              "                                                    [key], {});\n",
              "        if (!dataTable) return;\n",
              "\n",
              "        const docLinkHtml = 'Like what you see? Visit the ' +\n",
              "          '<a target=\"_blank\" href=https://colab.research.google.com/notebooks/data_table.ipynb>data table notebook</a>'\n",
              "          + ' to learn more about interactive tables.';\n",
              "        element.innerHTML = '';\n",
              "        dataTable['output_type'] = 'display_data';\n",
              "        await google.colab.output.renderOutput(dataTable, element);\n",
              "        const docLink = document.createElement('div');\n",
              "        docLink.innerHTML = docLinkHtml;\n",
              "        element.appendChild(docLink);\n",
              "      }\n",
              "    </script>\n",
              "  </div>\n",
              "\n",
              "\n",
              "<div id=\"df-9d4f76a1-dd5d-4e08-a04d-520bfe28bf91\">\n",
              "  <button class=\"colab-df-quickchart\" onclick=\"quickchart('df-9d4f76a1-dd5d-4e08-a04d-520bfe28bf91')\"\n",
              "            title=\"Suggest charts\"\n",
              "            style=\"display:none;\">\n",
              "\n",
              "<svg xmlns=\"http://www.w3.org/2000/svg\" height=\"24px\"viewBox=\"0 0 24 24\"\n",
              "     width=\"24px\">\n",
              "    <g>\n",
              "        <path d=\"M19 3H5c-1.1 0-2 .9-2 2v14c0 1.1.9 2 2 2h14c1.1 0 2-.9 2-2V5c0-1.1-.9-2-2-2zM9 17H7v-7h2v7zm4 0h-2V7h2v10zm4 0h-2v-4h2v4z\"/>\n",
              "    </g>\n",
              "</svg>\n",
              "  </button>\n",
              "\n",
              "<style>\n",
              "  .colab-df-quickchart {\n",
              "      --bg-color: #E8F0FE;\n",
              "      --fill-color: #1967D2;\n",
              "      --hover-bg-color: #E2EBFA;\n",
              "      --hover-fill-color: #174EA6;\n",
              "      --disabled-fill-color: #AAA;\n",
              "      --disabled-bg-color: #DDD;\n",
              "  }\n",
              "\n",
              "  [theme=dark] .colab-df-quickchart {\n",
              "      --bg-color: #3B4455;\n",
              "      --fill-color: #D2E3FC;\n",
              "      --hover-bg-color: #434B5C;\n",
              "      --hover-fill-color: #FFFFFF;\n",
              "      --disabled-bg-color: #3B4455;\n",
              "      --disabled-fill-color: #666;\n",
              "  }\n",
              "\n",
              "  .colab-df-quickchart {\n",
              "    background-color: var(--bg-color);\n",
              "    border: none;\n",
              "    border-radius: 50%;\n",
              "    cursor: pointer;\n",
              "    display: none;\n",
              "    fill: var(--fill-color);\n",
              "    height: 32px;\n",
              "    padding: 0;\n",
              "    width: 32px;\n",
              "  }\n",
              "\n",
              "  .colab-df-quickchart:hover {\n",
              "    background-color: var(--hover-bg-color);\n",
              "    box-shadow: 0 1px 2px rgba(60, 64, 67, 0.3), 0 1px 3px 1px rgba(60, 64, 67, 0.15);\n",
              "    fill: var(--button-hover-fill-color);\n",
              "  }\n",
              "\n",
              "  .colab-df-quickchart-complete:disabled,\n",
              "  .colab-df-quickchart-complete:disabled:hover {\n",
              "    background-color: var(--disabled-bg-color);\n",
              "    fill: var(--disabled-fill-color);\n",
              "    box-shadow: none;\n",
              "  }\n",
              "\n",
              "  .colab-df-spinner {\n",
              "    border: 2px solid var(--fill-color);\n",
              "    border-color: transparent;\n",
              "    border-bottom-color: var(--fill-color);\n",
              "    animation:\n",
              "      spin 1s steps(1) infinite;\n",
              "  }\n",
              "\n",
              "  @keyframes spin {\n",
              "    0% {\n",
              "      border-color: transparent;\n",
              "      border-bottom-color: var(--fill-color);\n",
              "      border-left-color: var(--fill-color);\n",
              "    }\n",
              "    20% {\n",
              "      border-color: transparent;\n",
              "      border-left-color: var(--fill-color);\n",
              "      border-top-color: var(--fill-color);\n",
              "    }\n",
              "    30% {\n",
              "      border-color: transparent;\n",
              "      border-left-color: var(--fill-color);\n",
              "      border-top-color: var(--fill-color);\n",
              "      border-right-color: var(--fill-color);\n",
              "    }\n",
              "    40% {\n",
              "      border-color: transparent;\n",
              "      border-right-color: var(--fill-color);\n",
              "      border-top-color: var(--fill-color);\n",
              "    }\n",
              "    60% {\n",
              "      border-color: transparent;\n",
              "      border-right-color: var(--fill-color);\n",
              "    }\n",
              "    80% {\n",
              "      border-color: transparent;\n",
              "      border-right-color: var(--fill-color);\n",
              "      border-bottom-color: var(--fill-color);\n",
              "    }\n",
              "    90% {\n",
              "      border-color: transparent;\n",
              "      border-bottom-color: var(--fill-color);\n",
              "    }\n",
              "  }\n",
              "</style>\n",
              "\n",
              "  <script>\n",
              "    async function quickchart(key) {\n",
              "      const quickchartButtonEl =\n",
              "        document.querySelector('#' + key + ' button');\n",
              "      quickchartButtonEl.disabled = true;  // To prevent multiple clicks.\n",
              "      quickchartButtonEl.classList.add('colab-df-spinner');\n",
              "      try {\n",
              "        const charts = await google.colab.kernel.invokeFunction(\n",
              "            'suggestCharts', [key], {});\n",
              "      } catch (error) {\n",
              "        console.error('Error during call to suggestCharts:', error);\n",
              "      }\n",
              "      quickchartButtonEl.classList.remove('colab-df-spinner');\n",
              "      quickchartButtonEl.classList.add('colab-df-quickchart-complete');\n",
              "    }\n",
              "    (() => {\n",
              "      let quickchartButtonEl =\n",
              "        document.querySelector('#df-9d4f76a1-dd5d-4e08-a04d-520bfe28bf91 button');\n",
              "      quickchartButtonEl.style.display =\n",
              "        google.colab.kernel.accessAllowed ? 'block' : 'none';\n",
              "    })();\n",
              "  </script>\n",
              "</div>\n",
              "\n",
              "    </div>\n",
              "  </div>\n"
            ]
          },
          "metadata": {},
          "execution_count": 31
        }
      ]
    },
    {
      "cell_type": "markdown",
      "source": [
        "# Q1"
      ],
      "metadata": {
        "id": "bC5NK2AnRS2d"
      }
    },
    {
      "cell_type": "code",
      "source": [
        "def make_tokens(df: pd.DataFrame) -> pd.DataFrame:\n",
        "  ## Your code starts here ##\n",
        "\n",
        "  #tokenizing the 'text' col and saving them in a new 'tokens' col\n",
        "  df['tokens'] = df['text'].apply(lambda x: word_tokenize(x.lower()))\n",
        "\n",
        "  ## end ##\n",
        "  return df"
      ],
      "metadata": {
        "id": "SJWlSUY6RU0n"
      },
      "execution_count": 32,
      "outputs": []
    },
    {
      "cell_type": "code",
      "source": [
        "babe_df_cleaned = make_tokens(babe_df_cleaned)\n",
        "print(babe_df_cleaned.loc[0, 'tokens'])"
      ],
      "metadata": {
        "id": "UkKTGbDdThxm",
        "colab": {
          "base_uri": "https://localhost:8080/"
        },
        "outputId": "9dcfd509-89a0-4834-af7f-fbf488589fd6"
      },
      "execution_count": 33,
      "outputs": [
        {
          "output_type": "stream",
          "name": "stdout",
          "text": [
            "['but', 'instead', 'of', 'closing', 'loopholes', 'that', 'allow', 'criminals', 'to', 'access', 'firearms', ',', 'the', 'bill', 'by', 'house', 'democrats', 'could', 'turn', 'millions', 'of', 'law-abiding', 'american', 'gun', 'owners', 'into', 'felons', '.']\n"
          ]
        }
      ]
    },
    {
      "cell_type": "markdown",
      "source": [
        "# Q2"
      ],
      "metadata": {
        "id": "llgF9IYY8sOE"
      }
    },
    {
      "cell_type": "code",
      "source": [
        "def clean_tokens(df: pd.DataFrame) -> pd.DataFrame:\n",
        "  ## Your code starts here ##\n",
        "  import string\n",
        "  stop_words = set(stopwords.words('english') + list(string.punctuation))\n",
        "  df['tokens'] = df['tokens'].apply(lambda x: [word for word in x if word not in\n",
        "                                               stop_words])\n",
        "\n",
        "  ## end ##\n",
        "  return df"
      ],
      "metadata": {
        "id": "UWZRieFrwldg"
      },
      "execution_count": 34,
      "outputs": []
    },
    {
      "cell_type": "code",
      "source": [
        "babe_df_cleaned = clean_tokens(babe_df_cleaned)\n",
        "print(babe_df_cleaned['tokens'].iloc[0])\n"
      ],
      "metadata": {
        "id": "5tzdLsdNTj2h",
        "colab": {
          "base_uri": "https://localhost:8080/"
        },
        "outputId": "3dfafd51-2ed5-43dc-f792-43405f1be3d9"
      },
      "execution_count": 35,
      "outputs": [
        {
          "output_type": "stream",
          "name": "stdout",
          "text": [
            "['instead', 'closing', 'loopholes', 'allow', 'criminals', 'access', 'firearms', 'bill', 'house', 'democrats', 'could', 'turn', 'millions', 'law-abiding', 'american', 'gun', 'owners', 'felons']\n"
          ]
        }
      ]
    },
    {
      "cell_type": "markdown",
      "source": [
        "# Q3\n",
        "\n"
      ],
      "metadata": {
        "id": "aPoOXie9RlZv"
      }
    },
    {
      "cell_type": "code",
      "source": [
        "def stem_tokens(df: pd.DataFrame) -> pd.DataFrame:\n",
        "  ## Your code starts here ##\n",
        "\n",
        "  #snowball is used for stemming (reducing words to their root form)\n",
        "  from nltk.stem.snowball import SnowballStemmer\n",
        "\n",
        "  #to stem english words\n",
        "  stemmer = SnowballStemmer('english')\n",
        "  #the tokens col are stemmed and assigned to a tokens_stemmed col\n",
        "  df['tokens_stemmed'] = df['tokens'].apply(lambda x: [stemmer.stem(word)\n",
        "  for word in x])\n",
        "\n",
        "  ## end ##\n",
        "  return df"
      ],
      "metadata": {
        "id": "JXEGhHLUR-Xi"
      },
      "execution_count": 36,
      "outputs": []
    },
    {
      "cell_type": "code",
      "source": [
        "babe_df_cleaned = stem_tokens(babe_df_cleaned)\n",
        "print(babe_df_cleaned['tokens_stemmed'].iloc[0])"
      ],
      "metadata": {
        "id": "GDZ0BYLhTygt",
        "colab": {
          "base_uri": "https://localhost:8080/"
        },
        "outputId": "4dda88ae-b935-4147-80f9-9f472be3fa59"
      },
      "execution_count": 37,
      "outputs": [
        {
          "output_type": "stream",
          "name": "stdout",
          "text": [
            "['instead', 'close', 'loophol', 'allow', 'crimin', 'access', 'firearm', 'bill', 'hous', 'democrat', 'could', 'turn', 'million', 'law-abid', 'american', 'gun', 'owner', 'felon']\n"
          ]
        }
      ]
    },
    {
      "cell_type": "markdown",
      "source": [
        "# Q4"
      ],
      "metadata": {
        "id": "e71tifeGKq9M"
      }
    },
    {
      "cell_type": "markdown",
      "source": [
        "## (a)"
      ],
      "metadata": {
        "id": "GnrXALRMVY0Y"
      }
    },
    {
      "cell_type": "code",
      "source": [
        "## Your code starts here ##\n",
        "\n",
        "#flattening the list of all tokens and counting their occurances\n",
        "all_tokens = [token for sublist in babe_df_cleaned['tokens'] for token in\n",
        "              sublist]\n",
        "token_count = Counter(all_tokens)\n",
        "\n",
        "#plotting the freq od top 10 tokens\n",
        "top_10_tokens = token_count.most_common(10)\n",
        "\n",
        "#conv to df for plotting\n",
        "top_10_df = pd.DataFrame(top_10_tokens, columns=['Token', 'Frequency'])\n",
        "\n",
        "#plotting\n",
        "plt.figure(figsize=(10,6))\n",
        "sns.barplot(x='Token', y='Frequency', data=top_10_df)\n",
        "plt.title('Top 10 Tokens by Frequency')\n",
        "plt.xticks(rotation=45)\n",
        "plt.show()\n",
        "\n",
        "\n",
        "\n",
        "\n",
        "## end ##"
      ],
      "metadata": {
        "id": "-31s2JWMWhUu",
        "colab": {
          "base_uri": "https://localhost:8080/",
          "height": 606
        },
        "outputId": "787b7a34-b4b9-41e1-8e73-0e6ba57d6111"
      },
      "execution_count": 39,
      "outputs": [
        {
          "output_type": "display_data",
          "data": {
            "text/plain": [
              "<Figure size 1000x600 with 1 Axes>"
            ],
            "image/png": "[encoded data removed]"
          },
          "metadata": {}
        }
      ]
    },
    {
      "cell_type": "markdown",
      "source": [
        "Enter answer here: It's a Zipf distribution."
      ],
      "metadata": {
        "id": "K7dR8dGNXNPr"
      }
    },
    {
      "cell_type": "markdown",
      "source": [
        "## (b)"
      ],
      "metadata": {
        "id": "LjPK4zNKVmwk"
      }
    },
    {
      "cell_type": "code",
      "source": [
        "## Your code starts here ##\n",
        "\n",
        "#top_10_df already contains the req info\n",
        "print(top_10_df)\n",
        "\n",
        "## end ##"
      ],
      "metadata": {
        "id": "RYUreLWkXIT4",
        "colab": {
          "base_uri": "https://localhost:8080/"
        },
        "outputId": "bea44d62-f1a4-4215-c528-a6a82a03369e"
      },
      "execution_count": 40,
      "outputs": [
        {
          "output_type": "stream",
          "name": "stdout",
          "text": [
            "       Token  Frequency\n",
            "0          ’       1520\n",
            "1      trump       1027\n",
            "2          “        669\n",
            "3          ”        664\n",
            "4  president        512\n",
            "5       u.s.        360\n",
            "6       said        357\n",
            "7     people        332\n",
            "8      would        327\n",
            "9        new        321\n"
          ]
        }
      ]
    },
    {
      "cell_type": "markdown",
      "source": [
        "# Q5"
      ],
      "metadata": {
        "id": "gl9CPofR8yfl"
      }
    },
    {
      "cell_type": "markdown",
      "source": [
        "## (a)"
      ],
      "metadata": {
        "id": "aHHURFiTYY-w"
      }
    },
    {
      "cell_type": "code",
      "source": [
        "## Your code starts here ##\n",
        "\n",
        "#CountVectorizer converts a collection of text docs to a matrix of token counts\n",
        "from sklearn.feature_extraction.text import CountVectorizer\n",
        "#to calc mi score\n",
        "from sklearn.metrics import mutual_info_score\n",
        "\n",
        "def calc_mi(df, token_column, top_n=500):\n",
        "  #combining the tokens into strings per row for CountVectorizer\n",
        "  df['text_combined'] = df[token_column].apply(lambda x: ' '.join(x))\n",
        "\n",
        "  #creating a CV, considering the top_n most common tokens\n",
        "  vect = CountVectorizer(max_features=top_n)\n",
        "  X = vect.fit_transform(df['text_combined'])\n",
        "  features = vect.get_feature_names_out()\n",
        "\n",
        "  #getting the topic as y\n",
        "  y = df['topic'].astype(str)\n",
        "\n",
        "  #calc mi scores for each feat\n",
        "  mi_scores = []\n",
        "  for i in range(X.shape[1]):\n",
        "    mi_score = mutual_info_score(X[:, i].toarray().ravel(), y)\n",
        "    mi_scores.append(mi_score)\n",
        "\n",
        "  #making a df w/ mi scores\n",
        "  mi_df = pd.DataFrame(list(zip(features, mi_scores)), columns=['Word',\n",
        "                                                                'MI Score'])\n",
        "\n",
        "  #creating a df based on mi scores in descending order\n",
        "  mi_df = mi_df.sort_values(by='MI Score', ascending=False)\n",
        "\n",
        "  #top 10 tokens thru mi score\n",
        "  top_tokens = mi_df.head(10)\n",
        "  return top_tokens\n",
        "\n",
        "#use the fn to the non-stemmed tokens\n",
        "mi_df_not_stemmed = calc_mi(babe_df_cleaned, 'tokens')\n",
        "print(mi_df_not_stemmed)\n",
        "\n",
        "## end ##"
      ],
      "metadata": {
        "id": "ahtAQKA_KZTs",
        "colab": {
          "base_uri": "https://localhost:8080/"
        },
        "outputId": "1e555585-96ee-4eab-dee4-bf7992174fa4"
      },
      "execution_count": 41,
      "outputs": [
        {
          "output_type": "stream",
          "name": "stdout",
          "text": [
            "         Word  MI Score\n",
            "182       gun  0.102106\n",
            "423       tax  0.073615\n",
            "443     trump  0.071276\n",
            "323    police  0.067033\n",
            "48      black  0.062242\n",
            "9    abortion  0.061613\n",
            "78    climate  0.060305\n",
            "412   student  0.057563\n",
            "489     women  0.055234\n",
            "456   vaccine  0.052584\n"
          ]
        }
      ]
    },
    {
      "cell_type": "markdown",
      "source": [
        "## (b)"
      ],
      "metadata": {
        "id": "tZLlEpnIZune"
      }
    },
    {
      "cell_type": "code",
      "source": [
        "## Your code starts here ##\n",
        "\n",
        "#resusing the fn from 5(a), passing the col for stemmed tokens as arg\n",
        "mi_df_stemmed = calc_mi(babe_df_cleaned, 'tokens_stemmed')\n",
        "print(mi_df_stemmed)\n",
        "\n",
        "## end ##"
      ],
      "metadata": {
        "id": "XwC_61jCZt_C",
        "colab": {
          "base_uri": "https://localhost:8080/"
        },
        "outputId": "fabb66e8-ef85-4cb3-814a-ac8b595a3196"
      },
      "execution_count": 42,
      "outputs": [
        {
          "output_type": "stream",
          "name": "stdout",
          "text": [
            "        Word  MI Score\n",
            "186      gun  0.114251\n",
            "465   vaccin  0.098314\n",
            "431      tax  0.097379\n",
            "3      abort  0.076426\n",
            "454    trump  0.071169\n",
            "343  protest  0.070161\n",
            "323    polic  0.067433\n",
            "48     black  0.060222\n",
            "420  student  0.059489\n",
            "80    climat  0.057707\n"
          ]
        }
      ]
    },
    {
      "cell_type": "markdown",
      "source": [
        "## (c)\n"
      ],
      "metadata": {
        "id": "pNGJ8yWzbGzR"
      }
    },
    {
      "cell_type": "markdown",
      "source": [
        "Enter answer here: It shows the most distinctive words for each topic, demonstrating how specific the tokens are uniquely related with certain topics. The tables from parts a and b show non-stemmed tokens and stemmed tokens, their usage depends on the analytic goal of the user; the one on (a) might offer a more semantic insight, whereas, the one on (b) might offer a more conxise overview of the topic-related words."
      ],
      "metadata": {
        "id": "UGlXePvIbJED"
      }
    }
  ]
}