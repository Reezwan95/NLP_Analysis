{
  "cells": [
    {
      "cell_type": "code",
      "execution_count": 50,
      "metadata": {
        "id": "1DAUTzvrVxXY",
        "colab": {
          "base_uri": "https://localhost:8080/"
        },
        "outputId": "d3080978-411a-4812-d9e1-36d16a87046d"
      },
      "outputs": [
        {
          "output_type": "stream",
          "name": "stderr",
          "text": [
            "[nltk_data] Downloading package vader_lexicon to /root/nltk_data...\n",
            "[nltk_data]   Package vader_lexicon is already up-to-date!\n",
            "[nltk_data] Downloading package stopwords to /root/nltk_data...\n",
            "[nltk_data]   Package stopwords is already up-to-date!\n",
            "[nltk_data] Downloading package averaged_perceptron_tagger to\n",
            "[nltk_data]     /root/nltk_data...\n",
            "[nltk_data]   Package averaged_perceptron_tagger is already up-to-\n",
            "[nltk_data]       date!\n",
            "[nltk_data] Downloading package wordnet to /root/nltk_data...\n",
            "[nltk_data]   Package wordnet is already up-to-date!\n",
            "[nltk_data] Downloading package punkt to /root/nltk_data...\n",
            "[nltk_data]   Package punkt is already up-to-date!\n",
            "<ipython-input-50-cf141d2e4c3c>:48: DeprecationWarning: Please use `gaussian_kde` from the `scipy.stats` namespace, the `scipy.stats.kde` namespace is deprecated.\n",
            "  from scipy.stats.kde import gaussian_kde\n"
          ]
        }
      ],
      "source": [
        "#Plot\n",
        "import matplotlib.pyplot as plt\n",
        "import seaborn as sns\n",
        "%matplotlib inline\n",
        "\n",
        "#Data Packages\n",
        "import math\n",
        "import pandas as pd\n",
        "import numpy as np\n",
        "\n",
        "#Progress bar\n",
        "from tqdm import tqdm\n",
        "\n",
        "#Counter\n",
        "from collections import Counter\n",
        "\n",
        "#Operation\n",
        "import operator\n",
        "\n",
        "#Natural Language Processing Packages\n",
        "import re\n",
        "import nltk\n",
        "\n",
        "## Download Resources\n",
        "nltk.download(\"vader_lexicon\")\n",
        "nltk.download(\"stopwords\")\n",
        "nltk.download(\"averaged_perceptron_tagger\")\n",
        "nltk.download(\"wordnet\")\n",
        "nltk.download('punkt')\n",
        "\n",
        "from nltk.sentiment import SentimentAnalyzer\n",
        "from nltk.sentiment.vader import SentimentIntensityAnalyzer\n",
        "from nltk.sentiment.util import *\n",
        "from nltk import tokenize\n",
        "from nltk.corpus import stopwords\n",
        "from nltk.tag import PerceptronTagger\n",
        "from nltk.data import find\n",
        "from nltk.tokenize import word_tokenize\n",
        "from nltk import pos_tag\n",
        "\n",
        "## Machine Learning\n",
        "import sklearn\n",
        "import sklearn.metrics as metrics\n",
        "\n",
        "## Data Visualization\n",
        "import folium\n",
        "from tabulate import tabulate\n",
        "from scipy.stats.kde import gaussian_kde"
      ]
    },
    {
      "cell_type": "code",
      "execution_count": 51,
      "metadata": {
        "id": "aZK_uoWcXxO5"
      },
      "outputs": [],
      "source": [
        "# set pandas formatting options\n",
        "pd.set_option('display.max_columns', None)\n",
        "pd.set_option('display.expand_frame_repr', False)\n",
        "pd.set_option('max_colwidth', 500)"
      ]
    },
    {
      "cell_type": "code",
      "execution_count": 52,
      "metadata": {
        "id": "KvEBmmy4X7KK"
      },
      "outputs": [],
      "source": [
        "#Read in from pandas\n",
        "columnNames = ['filePath','hotelName','reviewColumn','ratingScore','groundTruth',\n",
        "               'date_stamp','streetAddress', 'City',\n",
        "               'Province','postalCode']\n",
        "\n",
        "hotelDf = pd.read_csv('https://raw.githubusercontent.com/MIE223-2024/course-datasets/main/kingston-mx50.csv',\n",
        "                          header=None,\n",
        "                          names=columnNames)\n",
        "\n",
        "hotelDf['numReviews'] = hotelDf.groupby('hotelName')['reviewColumn'].transform('count')"
      ]
    },
    {
      "cell_type": "code",
      "source": [
        "hotelDf.head()"
      ],
      "metadata": {
        "id": "P3NyXMqRxSk3",
        "colab": {
          "base_uri": "https://localhost:8080/",
          "height": 484
        },
        "outputId": "c92271bc-b02f-4718-cb4c-09678fa0cc58"
      },
      "execution_count": 53,
      "outputs": [
        {
          "output_type": "execute_result",
          "data": {
            "text/plain": [
              "                                            filePath                 hotelName                                                                                                                                                                                                                                                                                                                                                                                                                                                                                                         reviewColumn  ratingScore groundTruth         date_stamp      streetAddress           City Province postalCode  numReviews\n",
              "0  data_kingston_50/ca/154992/9160041/885042479.html  Quality Inn &amp; Suites                                                                                                                                                                                                                                                       \"Great room, great service, standard hotel breakfast. Decent coffee. However don't count on the internet, couldn't enter my virtual meetings even without video. Let alone stream a tv show or YouTube. Other then that it was a safe, clean and good choice.             3    negative      April 6, 2023  1530 Robinson Crt  ('Kingston',)  Ontario    K7P 0K4          14\n",
              "1  data_kingston_50/ca/154992/9160041/869263404.html  Quality Inn &amp; Suites                                                                                                                                                                                                                                      \"This hotel is exceptionally clean and well maintained. The staff is incredibly friendly and helpful. A big thank you to Emma for making our trip incredible! The room was very spacious with the most comfortable bed. I would highly recommend Quality Inn for a superb stay.            5    positive  November 21, 2022  1530 Robinson Crt  ('Kingston',)  Ontario    K7P 0K4          14\n",
              "2  data_kingston_50/ca/154992/9160041/857888766.html  Quality Inn &amp; Suites                                                                                                                                                                                                                                                                                                  \"We were travelling and needed a room for one night. The carpet was filthy.  The bed was damp.  As were the sheets and pillows.  And the price ridiculous.   160 bucks for a  night.  Good place to stay away from.            1    negative  September 1, 2022  1530 Robinson Crt  ('Kingston',)  Ontario    K7P 0K4          14\n",
              "3  data_kingston_50/ca/154992/9160041/886311292.html  Quality Inn &amp; Suites                                                                                                                                                                                                                                                                       \"No nonsense hotel to stay at on the way to Ottawa. Room is renovated, shower is nice, breakfast is good. Staff is friendly. It's all you want for this type of hotel. I would stay here again if I needed a hotel for the same type of thing.            5    positive     April 15, 2023  1530 Robinson Crt  ('Kingston',)  Ontario    K7P 0K4          14\n",
              "4  data_kingston_50/ca/154992/9160041/901743337.html  Quality Inn &amp; Suites  \"Stayed on the main floor and it was extremely noisy, lots of hall noise, but worst was the parking construction going on right outside our window. Dump Trucks (paving?) kept backing up with their backup beeper, honking their very loud horns, etc. So much for afternoon nap before our event.\\nWish we had been warned of the construction,  (especially since i asked for a quiet room) \\nThe room was clean, with plenty of towels, toiletries and coffee. \\nThe beds were comically soft, to the point ...            3    negative       July 9, 2023  1530 Robinson Crt  ('Kingston',)  Ontario    K7P 0K4          14"
            ],
            "text/html": [
              "\n",
              "  <div id=\"df-d1d62df7-88e9-4a05-b54b-3a1a4c476ca6\" class=\"colab-df-container\">\n",
              "    <div>\n",
              "<style scoped>\n",
              "    .dataframe tbody tr th:only-of-type {\n",
              "        vertical-align: middle;\n",
              "    }\n",
              "\n",
              "    .dataframe tbody tr th {\n",
              "        vertical-align: top;\n",
              "    }\n",
              "\n",
              "    .dataframe thead th {\n",
              "        text-align: right;\n",
              "    }\n",
              "</style>\n",
              "<table border=\"1\" class=\"dataframe\">\n",
              "  <thead>\n",
              "    <tr style=\"text-align: right;\">\n",
              "      <th></th>\n",
              "      <th>filePath</th>\n",
              "      <th>hotelName</th>\n",
              "      <th>reviewColumn</th>\n",
              "      <th>ratingScore</th>\n",
              "      <th>groundTruth</th>\n",
              "      <th>date_stamp</th>\n",
              "      <th>streetAddress</th>\n",
              "      <th>City</th>\n",
              "      <th>Province</th>\n",
              "      <th>postalCode</th>\n",
              "      <th>numReviews</th>\n",
              "    </tr>\n",
              "  </thead>\n",
              "  <tbody>\n",
              "    <tr>\n",
              "      <th>0</th>\n",
              "      <td>data_kingston_50/ca/154992/9160041/885042479.html</td>\n",
              "      <td>Quality Inn &amp;amp; Suites</td>\n",
              "      <td>\"Great room, great service, standard hotel breakfast. Decent coffee. However don't count on the internet, couldn't enter my virtual meetings even without video. Let alone stream a tv show or YouTube. Other then that it was a safe, clean and good choice.</td>\n",
              "      <td>3</td>\n",
              "      <td>negative</td>\n",
              "      <td>April 6, 2023</td>\n",
              "      <td>1530 Robinson Crt</td>\n",
              "      <td>('Kingston',)</td>\n",
              "      <td>Ontario</td>\n",
              "      <td>K7P 0K4</td>\n",
              "      <td>14</td>\n",
              "    </tr>\n",
              "    <tr>\n",
              "      <th>1</th>\n",
              "      <td>data_kingston_50/ca/154992/9160041/869263404.html</td>\n",
              "      <td>Quality Inn &amp;amp; Suites</td>\n",
              "      <td>\"This hotel is exceptionally clean and well maintained. The staff is incredibly friendly and helpful. A big thank you to Emma for making our trip incredible! The room was very spacious with the most comfortable bed. I would highly recommend Quality Inn for a superb stay.</td>\n",
              "      <td>5</td>\n",
              "      <td>positive</td>\n",
              "      <td>November 21, 2022</td>\n",
              "      <td>1530 Robinson Crt</td>\n",
              "      <td>('Kingston',)</td>\n",
              "      <td>Ontario</td>\n",
              "      <td>K7P 0K4</td>\n",
              "      <td>14</td>\n",
              "    </tr>\n",
              "    <tr>\n",
              "      <th>2</th>\n",
              "      <td>data_kingston_50/ca/154992/9160041/857888766.html</td>\n",
              "      <td>Quality Inn &amp;amp; Suites</td>\n",
              "      <td>\"We were travelling and needed a room for one night. The carpet was filthy.  The bed was damp.  As were the sheets and pillows.  And the price ridiculous.   160 bucks for a  night.  Good place to stay away from.</td>\n",
              "      <td>1</td>\n",
              "      <td>negative</td>\n",
              "      <td>September 1, 2022</td>\n",
              "      <td>1530 Robinson Crt</td>\n",
              "      <td>('Kingston',)</td>\n",
              "      <td>Ontario</td>\n",
              "      <td>K7P 0K4</td>\n",
              "      <td>14</td>\n",
              "    </tr>\n",
              "    <tr>\n",
              "      <th>3</th>\n",
              "      <td>data_kingston_50/ca/154992/9160041/886311292.html</td>\n",
              "      <td>Quality Inn &amp;amp; Suites</td>\n",
              "      <td>\"No nonsense hotel to stay at on the way to Ottawa. Room is renovated, shower is nice, breakfast is good. Staff is friendly. It's all you want for this type of hotel. I would stay here again if I needed a hotel for the same type of thing.</td>\n",
              "      <td>5</td>\n",
              "      <td>positive</td>\n",
              "      <td>April 15, 2023</td>\n",
              "      <td>1530 Robinson Crt</td>\n",
              "      <td>('Kingston',)</td>\n",
              "      <td>Ontario</td>\n",
              "      <td>K7P 0K4</td>\n",
              "      <td>14</td>\n",
              "    </tr>\n",
              "    <tr>\n",
              "      <th>4</th>\n",
              "      <td>data_kingston_50/ca/154992/9160041/901743337.html</td>\n",
              "      <td>Quality Inn &amp;amp; Suites</td>\n",
              "      <td>\"Stayed on the main floor and it was extremely noisy, lots of hall noise, but worst was the parking construction going on right outside our window. Dump Trucks (paving?) kept backing up with their backup beeper, honking their very loud horns, etc. So much for afternoon nap before our event.\\nWish we had been warned of the construction,  (especially since i asked for a quiet room) \\nThe room was clean, with plenty of towels, toiletries and coffee. \\nThe beds were comically soft, to the point ...</td>\n",
              "      <td>3</td>\n",
              "      <td>negative</td>\n",
              "      <td>July 9, 2023</td>\n",
              "      <td>1530 Robinson Crt</td>\n",
              "      <td>('Kingston',)</td>\n",
              "      <td>Ontario</td>\n",
              "      <td>K7P 0K4</td>\n",
              "      <td>14</td>\n",
              "    </tr>\n",
              "  </tbody>\n",
              "</table>\n",
              "</div>\n",
              "    <div class=\"colab-df-buttons\">\n",
              "\n",
              "  <div class=\"colab-df-container\">\n",
              "    <button class=\"colab-df-convert\" onclick=\"convertToInteractive('df-d1d62df7-88e9-4a05-b54b-3a1a4c476ca6')\"\n",
              "            title=\"Convert this dataframe to an interactive table.\"\n",
              "            style=\"display:none;\">\n",
              "\n",
              "  <svg xmlns=\"http://www.w3.org/2000/svg\" height=\"24px\" viewBox=\"0 -960 960 960\">\n",
              "    <path d=\"M120-120v-720h720v720H120Zm60-500h600v-160H180v160Zm220 220h160v-160H400v160Zm0 220h160v-160H400v160ZM180-400h160v-160H180v160Zm440 0h160v-160H620v160ZM180-180h160v-160H180v160Zm440 0h160v-160H620v160Z\"/>\n",
              "  </svg>\n",
              "    </button>\n",
              "\n",
              "  <style>\n",
              "    .colab-df-container {\n",
              "      display:flex;\n",
              "      gap: 12px;\n",
              "    }\n",
              "\n",
              "    .colab-df-convert {\n",
              "      background-color: #E8F0FE;\n",
              "      border: none;\n",
              "      border-radius: 50%;\n",
              "      cursor: pointer;\n",
              "      display: none;\n",
              "      fill: #1967D2;\n",
              "      height: 32px;\n",
              "      padding: 0 0 0 0;\n",
              "      width: 32px;\n",
              "    }\n",
              "\n",
              "    .colab-df-convert:hover {\n",
              "      background-color: #E2EBFA;\n",
              "      box-shadow: 0px 1px 2px rgba(60, 64, 67, 0.3), 0px 1px 3px 1px rgba(60, 64, 67, 0.15);\n",
              "      fill: #174EA6;\n",
              "    }\n",
              "\n",
              "    .colab-df-buttons div {\n",
              "      margin-bottom: 4px;\n",
              "    }\n",
              "\n",
              "    [theme=dark] .colab-df-convert {\n",
              "      background-color: #3B4455;\n",
              "      fill: #D2E3FC;\n",
              "    }\n",
              "\n",
              "    [theme=dark] .colab-df-convert:hover {\n",
              "      background-color: #434B5C;\n",
              "      box-shadow: 0px 1px 3px 1px rgba(0, 0, 0, 0.15);\n",
              "      filter: drop-shadow(0px 1px 2px rgba(0, 0, 0, 0.3));\n",
              "      fill: #FFFFFF;\n",
              "    }\n",
              "  </style>\n",
              "\n",
              "    <script>\n",
              "      const buttonEl =\n",
              "        document.querySelector('#df-d1d62df7-88e9-4a05-b54b-3a1a4c476ca6 button.colab-df-convert');\n",
              "      buttonEl.style.display =\n",
              "        google.colab.kernel.accessAllowed ? 'block' : 'none';\n",
              "\n",
              "      async function convertToInteractive(key) {\n",
              "        const element = document.querySelector('#df-d1d62df7-88e9-4a05-b54b-3a1a4c476ca6');\n",
              "        const dataTable =\n",
              "          await google.colab.kernel.invokeFunction('convertToInteractive',\n",
              "                                                    [key], {});\n",
              "        if (!dataTable) return;\n",
              "\n",
              "        const docLinkHtml = 'Like what you see? Visit the ' +\n",
              "          '<a target=\"_blank\" href=https://colab.research.google.com/notebooks/data_table.ipynb>data table notebook</a>'\n",
              "          + ' to learn more about interactive tables.';\n",
              "        element.innerHTML = '';\n",
              "        dataTable['output_type'] = 'display_data';\n",
              "        await google.colab.output.renderOutput(dataTable, element);\n",
              "        const docLink = document.createElement('div');\n",
              "        docLink.innerHTML = docLinkHtml;\n",
              "        element.appendChild(docLink);\n",
              "      }\n",
              "    </script>\n",
              "  </div>\n",
              "\n",
              "\n",
              "<div id=\"df-a29c47b2-4844-4d5d-872d-9ee42a7c88eb\">\n",
              "  <button class=\"colab-df-quickchart\" onclick=\"quickchart('df-a29c47b2-4844-4d5d-872d-9ee42a7c88eb')\"\n",
              "            title=\"Suggest charts\"\n",
              "            style=\"display:none;\">\n",
              "\n",
              "<svg xmlns=\"http://www.w3.org/2000/svg\" height=\"24px\"viewBox=\"0 0 24 24\"\n",
              "     width=\"24px\">\n",
              "    <g>\n",
              "        <path d=\"M19 3H5c-1.1 0-2 .9-2 2v14c0 1.1.9 2 2 2h14c1.1 0 2-.9 2-2V5c0-1.1-.9-2-2-2zM9 17H7v-7h2v7zm4 0h-2V7h2v10zm4 0h-2v-4h2v4z\"/>\n",
              "    </g>\n",
              "</svg>\n",
              "  </button>\n",
              "\n",
              "<style>\n",
              "  .colab-df-quickchart {\n",
              "      --bg-color: #E8F0FE;\n",
              "      --fill-color: #1967D2;\n",
              "      --hover-bg-color: #E2EBFA;\n",
              "      --hover-fill-color: #174EA6;\n",
              "      --disabled-fill-color: #AAA;\n",
              "      --disabled-bg-color: #DDD;\n",
              "  }\n",
              "\n",
              "  [theme=dark] .colab-df-quickchart {\n",
              "      --bg-color: #3B4455;\n",
              "      --fill-color: #D2E3FC;\n",
              "      --hover-bg-color: #434B5C;\n",
              "      --hover-fill-color: #FFFFFF;\n",
              "      --disabled-bg-color: #3B4455;\n",
              "      --disabled-fill-color: #666;\n",
              "  }\n",
              "\n",
              "  .colab-df-quickchart {\n",
              "    background-color: var(--bg-color);\n",
              "    border: none;\n",
              "    border-radius: 50%;\n",
              "    cursor: pointer;\n",
              "    display: none;\n",
              "    fill: var(--fill-color);\n",
              "    height: 32px;\n",
              "    padding: 0;\n",
              "    width: 32px;\n",
              "  }\n",
              "\n",
              "  .colab-df-quickchart:hover {\n",
              "    background-color: var(--hover-bg-color);\n",
              "    box-shadow: 0 1px 2px rgba(60, 64, 67, 0.3), 0 1px 3px 1px rgba(60, 64, 67, 0.15);\n",
              "    fill: var(--button-hover-fill-color);\n",
              "  }\n",
              "\n",
              "  .colab-df-quickchart-complete:disabled,\n",
              "  .colab-df-quickchart-complete:disabled:hover {\n",
              "    background-color: var(--disabled-bg-color);\n",
              "    fill: var(--disabled-fill-color);\n",
              "    box-shadow: none;\n",
              "  }\n",
              "\n",
              "  .colab-df-spinner {\n",
              "    border: 2px solid var(--fill-color);\n",
              "    border-color: transparent;\n",
              "    border-bottom-color: var(--fill-color);\n",
              "    animation:\n",
              "      spin 1s steps(1) infinite;\n",
              "  }\n",
              "\n",
              "  @keyframes spin {\n",
              "    0% {\n",
              "      border-color: transparent;\n",
              "      border-bottom-color: var(--fill-color);\n",
              "      border-left-color: var(--fill-color);\n",
              "    }\n",
              "    20% {\n",
              "      border-color: transparent;\n",
              "      border-left-color: var(--fill-color);\n",
              "      border-top-color: var(--fill-color);\n",
              "    }\n",
              "    30% {\n",
              "      border-color: transparent;\n",
              "      border-left-color: var(--fill-color);\n",
              "      border-top-color: var(--fill-color);\n",
              "      border-right-color: var(--fill-color);\n",
              "    }\n",
              "    40% {\n",
              "      border-color: transparent;\n",
              "      border-right-color: var(--fill-color);\n",
              "      border-top-color: var(--fill-color);\n",
              "    }\n",
              "    60% {\n",
              "      border-color: transparent;\n",
              "      border-right-color: var(--fill-color);\n",
              "    }\n",
              "    80% {\n",
              "      border-color: transparent;\n",
              "      border-right-color: var(--fill-color);\n",
              "      border-bottom-color: var(--fill-color);\n",
              "    }\n",
              "    90% {\n",
              "      border-color: transparent;\n",
              "      border-bottom-color: var(--fill-color);\n",
              "    }\n",
              "  }\n",
              "</style>\n",
              "\n",
              "  <script>\n",
              "    async function quickchart(key) {\n",
              "      const quickchartButtonEl =\n",
              "        document.querySelector('#' + key + ' button');\n",
              "      quickchartButtonEl.disabled = true;  // To prevent multiple clicks.\n",
              "      quickchartButtonEl.classList.add('colab-df-spinner');\n",
              "      try {\n",
              "        const charts = await google.colab.kernel.invokeFunction(\n",
              "            'suggestCharts', [key], {});\n",
              "      } catch (error) {\n",
              "        console.error('Error during call to suggestCharts:', error);\n",
              "      }\n",
              "      quickchartButtonEl.classList.remove('colab-df-spinner');\n",
              "      quickchartButtonEl.classList.add('colab-df-quickchart-complete');\n",
              "    }\n",
              "    (() => {\n",
              "      let quickchartButtonEl =\n",
              "        document.querySelector('#df-a29c47b2-4844-4d5d-872d-9ee42a7c88eb button');\n",
              "      quickchartButtonEl.style.display =\n",
              "        google.colab.kernel.accessAllowed ? 'block' : 'none';\n",
              "    })();\n",
              "  </script>\n",
              "</div>\n",
              "\n",
              "    </div>\n",
              "  </div>\n"
            ],
            "application/vnd.google.colaboratory.intrinsic+json": {
              "type": "dataframe",
              "variable_name": "hotelDf",
              "summary": "{\n  \"name\": \"hotelDf\",\n  \"rows\": 247,\n  \"fields\": [\n    {\n      \"column\": \"filePath\",\n      \"properties\": {\n        \"dtype\": \"string\",\n        \"samples\": [\n          \"data_kingston_50/ca/154992/1599748/919463299.html\",\n          \"data_kingston_50/ca/154992/9160041/915058656.html\",\n          \"data_kingston_50/ca/154992/188289/893249293.html\"\n        ],\n        \"num_unique_values\": 247,\n        \"semantic_type\": \"\",\n        \"description\": \"\"\n      }\n    },\n    {\n      \"column\": \"hotelName\",\n      \"properties\": {\n        \"dtype\": \"category\",\n        \"samples\": [\n          \"Quality Inn &amp; Suites\",\n          \"Super 8 by Wyndham Kingston\",\n          \"Holiday Inn Express Kingston West, an IHG Hotel\"\n        ],\n        \"num_unique_values\": 19,\n        \"semantic_type\": \"\",\n        \"description\": \"\"\n      }\n    },\n    {\n      \"column\": \"reviewColumn\",\n      \"properties\": {\n        \"dtype\": \"string\",\n        \"samples\": [\n          \"\\\"Pretty tight room, did have a view of the Bay which would have been nice but the chairs have cushions so wet from the dew.  They were doing some construction at the waterfront so the yard wasn't well organized but still a pretty balcony and view.  The bathroom was very clean but very small. The bed was comfortable but you had to be careful of the metal corners at the bottom of the bed, cut my leg on it.  Needs to have a luggage holder stand to sit your suitcase on as I hate putting my suitcase on a carpeted floor. I'm not sure I would stay there again but it was average and in fairness they were working on the dock and the view was nice.\",\n          \"\\\"\\\\nI had an awesome experience at this hotel especially the front desk staff and cleanliness . Housekeeping did an excellent job, and I got upgraded to a spacious suite. I would definitely choose this hotel again. Keep up the good work\",\n          \"\\\"We had a two night stay with the delta waterfront and we\\\\u2019re very impressed with the level of service we received. From the parking attendant, the front desk to the restaurant and cleaning crew, everybody was above and beyond helpful. \\\\nCurrently they are under renovation so the decor is not at its best but it still delivered!\"\n        ],\n        \"num_unique_values\": 247,\n        \"semantic_type\": \"\",\n        \"description\": \"\"\n      }\n    },\n    {\n      \"column\": \"ratingScore\",\n      \"properties\": {\n        \"dtype\": \"number\",\n        \"std\": 1,\n        \"min\": 1,\n        \"max\": 5,\n        \"samples\": [\n          5,\n          4,\n          1\n        ],\n        \"num_unique_values\": 5,\n        \"semantic_type\": \"\",\n        \"description\": \"\"\n      }\n    },\n    {\n      \"column\": \"groundTruth\",\n      \"properties\": {\n        \"dtype\": \"category\",\n        \"samples\": [\n          \"positive\",\n          \"negative\"\n        ],\n        \"num_unique_values\": 2,\n        \"semantic_type\": \"\",\n        \"description\": \"\"\n      }\n    },\n    {\n      \"column\": \"date_stamp\",\n      \"properties\": {\n        \"dtype\": \"object\",\n        \"min\": \"April 10, 2023\",\n        \"max\": \"September 9, 2022\",\n        \"samples\": [\n          \"July 18, 2022\",\n          \"April 5, 2023\"\n        ],\n        \"num_unique_values\": 211,\n        \"semantic_type\": \"\",\n        \"description\": \"\"\n      }\n    },\n    {\n      \"column\": \"streetAddress\",\n      \"properties\": {\n        \"dtype\": \"category\",\n        \"samples\": [\n          \"1530 Robinson Crt\",\n          \"794 Highway 2\"\n        ],\n        \"num_unique_values\": 19,\n        \"semantic_type\": \"\",\n        \"description\": \"\"\n      }\n    },\n    {\n      \"column\": \"City\",\n      \"properties\": {\n        \"dtype\": \"category\",\n        \"samples\": [\n          \"('Kingston',)\"\n        ],\n        \"num_unique_values\": 1,\n        \"semantic_type\": \"\",\n        \"description\": \"\"\n      }\n    },\n    {\n      \"column\": \"Province\",\n      \"properties\": {\n        \"dtype\": \"category\",\n        \"samples\": [\n          \"Ontario\"\n        ],\n        \"num_unique_values\": 1,\n        \"semantic_type\": \"\",\n        \"description\": \"\"\n      }\n    },\n    {\n      \"column\": \"postalCode\",\n      \"properties\": {\n        \"dtype\": \"category\",\n        \"samples\": [\n          \"K7M 3E5\"\n        ],\n        \"num_unique_values\": 15,\n        \"semantic_type\": \"\",\n        \"description\": \"\"\n      }\n    },\n    {\n      \"column\": \"numReviews\",\n      \"properties\": {\n        \"dtype\": \"number\",\n        \"std\": 8,\n        \"min\": 4,\n        \"max\": 32,\n        \"samples\": [\n          5\n        ],\n        \"num_unique_values\": 13,\n        \"semantic_type\": \"\",\n        \"description\": \"\"\n      }\n    }\n  ]\n}"
            }
          },
          "metadata": {},
          "execution_count": 53
        }
      ]
    },
    {
      "cell_type": "markdown",
      "source": [
        "# Q1"
      ],
      "metadata": {
        "id": "JlauTDHfxYen"
      }
    },
    {
      "cell_type": "code",
      "execution_count": 54,
      "metadata": {
        "id": "wlBeOOZY08dJ"
      },
      "outputs": [],
      "source": [
        "def get_histogram(df: pd.DataFrame, figsize=(10,5)) -> None:\n",
        "    ## Your code starts here ##\n",
        "    plt.figure(figsize=figsize)\n",
        "    sns.histplot(data=hotelDf, x='ratingScore', bins=10, kde=False)\n",
        "    plt.title('Distribution of Ratings')\n",
        "    plt.xlabel('Rating Score')\n",
        "    plt.ylabel('Count')\n",
        "    plt.show()\n",
        "    ## end ##"
      ]
    },
    {
      "cell_type": "code",
      "execution_count": 55,
      "metadata": {
        "id": "2RCh9Ahx0_6H",
        "colab": {
          "base_uri": "https://localhost:8080/",
          "height": 487
        },
        "outputId": "b8e5a196-4a87-47e5-d0c3-d3aeb101f82f"
      },
      "outputs": [
        {
          "output_type": "display_data",
          "data": {
            "text/plain": [
              "<Figure size 1000x500 with 1 Axes>"
            ],
            "image/png": "[encoded data removed]"
          },
          "metadata": {}
        }
      ],
      "source": [
        "# DO NOT MODIFY THIS CODE\n",
        "get_histogram(hotelDf)"
      ]
    },
    {
      "cell_type": "markdown",
      "source": [
        "# Q2"
      ],
      "metadata": {
        "id": "V0p7vSttyGcO"
      }
    },
    {
      "cell_type": "code",
      "source": [
        "def plot_time_series(df: pd.DataFrame) -> None:\n",
        "  ## Your code starts here ##\n",
        "\n",
        "  plt.figure(figsize=(15, 7))\n",
        "\n",
        "  #plot each hotel's rolling average on separate subplots or consider filtering the hotels.\n",
        "  for hotel in hotelNames:\n",
        "      hotel_df = df[df['hotelName'] == hotel].copy()\n",
        "      hotel_df['date_stamp'] = pd.to_datetime(hotel_df['date_stamp'])\n",
        "      hotel_df = hotel_df.sort_values('date_stamp')\n",
        "\n",
        "      #compute the rolling average rating with a window of 5.\n",
        "      hotel_df['rolling_avg'] = hotel_df['ratingScore'].rolling(window=5).mean()\n",
        "\n",
        "      plt.plot(hotel_df['date_stamp'], hotel_df['rolling_avg'], label=f'Rolling Avg Rating for {hotel}')\n",
        "\n",
        "  #move the legend outside of the plot area.\n",
        "  plt.legend(loc='upper left', bbox_to_anchor=(1,1))\n",
        "\n",
        "  plt.xlabel('Date')\n",
        "  plt.ylabel('Rolling Average Rating')\n",
        "  plt.title('Rolling Average Rating over Time for Selected Hotels')\n",
        "  #adjust the layout to make room for the legend.\n",
        "  plt.tight_layout()\n",
        "  plt.show()\n",
        "\n",
        "  ## end ##"
      ],
      "metadata": {
        "id": "Y-4JLz1ZzvCl"
      },
      "execution_count": 56,
      "outputs": []
    },
    {
      "cell_type": "code",
      "source": [
        "# DO NOT MODIFY THIS CODE\n",
        "hotelNames = ['Hochelaga Inn', 'Super 8 by Wyndham Kingston', 'The Rosemount Inn']\n",
        "plot_time_series(hotelDf[hotelDf['hotelName'].isin(hotelNames)])"
      ],
      "metadata": {
        "id": "HUf-bpzl03NV",
        "colab": {
          "base_uri": "https://localhost:8080/",
          "height": 707
        },
        "outputId": "90f8e3ef-831a-41bf-d6f0-73d045822d1d"
      },
      "execution_count": 57,
      "outputs": [
        {
          "output_type": "display_data",
          "data": {
            "text/plain": [
              "<Figure size 1500x700 with 1 Axes>"
            ],
            "image/png": "[encoded data removed]"
          },
          "metadata": {}
        }
      ]
    },
    {
      "cell_type": "markdown",
      "source": [
        "# Q3"
      ],
      "metadata": {
        "id": "pLBxlmzX30xv"
      }
    },
    {
      "cell_type": "markdown",
      "source": [
        "## (a)"
      ],
      "metadata": {
        "id": "JVMluVSI36o4"
      }
    },
    {
      "cell_type": "code",
      "source": [
        "# DO NOT MODIFY THIS CODE\n",
        "def get_stop_words():\n",
        "  stop = set(stopwords.words('english'))\n",
        "  stop.add('hotel')\n",
        "  stop.add('room')\n",
        "  stop.add('rooms')\n",
        "  stop.add('stay')\n",
        "  stop.add('staff')\n",
        "  return stop\n",
        "\n",
        "def most_frequent_words(df: pd.DataFrame, kwords: int) -> list[tuple[str, int]]:\n",
        "  ## Your code starts here ##\n",
        "  text = ' '.join(df['reviewColumn'].tolist()).lower()\n",
        "  words = nltk.word_tokenize(text)\n",
        "  filtered_words = [word for word in words if word not in get_stop_words() and len(word) > 2]\n",
        "  freq_dist = nltk.FreqDist(filtered_words)\n",
        "  return freq_dist.most_common(kwords)\n",
        "\n",
        "\n",
        "  ## end ##\n",
        "  return topk"
      ],
      "metadata": {
        "id": "0NgZ8z0k4CpY"
      },
      "execution_count": 58,
      "outputs": []
    },
    {
      "cell_type": "code",
      "source": [
        "# DO NOT MODIFY THIS CODE\n",
        "topk = most_frequent_words(hotelDf, 500)\n",
        "topk[:10]"
      ],
      "metadata": {
        "id": "hWUIWDD25KHb",
        "colab": {
          "base_uri": "https://localhost:8080/"
        },
        "outputId": "7043451e-8803-44c1-beb2-ab9bbd8f1583"
      },
      "execution_count": 59,
      "outputs": [
        {
          "output_type": "execute_result",
          "data": {
            "text/plain": [
              "[('clean', 112),\n",
              " ('breakfast', 96),\n",
              " ('kingston', 87),\n",
              " ('great', 80),\n",
              " ('one', 80),\n",
              " ('good', 79),\n",
              " ('friendly', 77),\n",
              " ('place', 75),\n",
              " ('nice', 75),\n",
              " ('would', 74)]"
            ]
          },
          "metadata": {},
          "execution_count": 59
        }
      ]
    },
    {
      "cell_type": "markdown",
      "source": [
        "## (b)"
      ],
      "metadata": {
        "id": "xq0hFbWZ5tAz"
      }
    },
    {
      "cell_type": "code",
      "source": [
        "## Your code starts here ##\n",
        "def calculate_mi(df, word):\n",
        "    N = len(df)\n",
        "    N_1 = sum(df['reviewColumn'].str.contains(r'\\b{}\\b'.format(word), regex=True, case=False))\n",
        "    N_1_ = N - N_1\n",
        "    N_11 = sum((df['groundTruth'] == 'positive') & df['reviewColumn'].str.contains(r'\\b{}\\b'.format(word), regex=True, case=False))\n",
        "    N_10 = N_1 - N_11\n",
        "    N_01 = sum((df['groundTruth'] == 'positive')) - N_11\n",
        "    N_00 = N_1_ - N_01\n",
        "\n",
        "    #avoiding division by zero, by adding a small value to denominators (smoothing)\n",
        "    mi = (N_11/N) * np.log2((N * N_11 + 1) / ((N_1 + 1) * (N_01 + N_11 + 1))) if N_11 > 0 else 0\n",
        "    mi += (N_01/N) * np.log2((N * N_01 + 1) / ((N_1_ + 1) * (N_01 + N_11 + 1))) if N_01 > 0 else 0\n",
        "    mi += (N_10/N) * np.log2((N * N_10 + 1) / ((N_1 + 1) * (N_10 + N_00 + 1))) if N_10 > 0 else 0\n",
        "    mi += (N_00/N) * np.log2((N * N_00 + 1) / ((N_1_ + 1) * (N_10 + N_00 + 1))) if N_00 > 0 else 0\n",
        "\n",
        "    return mi\n",
        "\n",
        "#using the most_frequent_words function from a previous example to get the top 500 words\n",
        "top_words = most_frequent_words(hotelDf, 500)\n",
        "mi_scores = [(word, calculate_mi(hotelDf, word)) for word, _ in top_words]\n",
        "mi_df = pd.DataFrame(mi_scores, columns=['Word', 'MI_Score']).sort_values(by='MI_Score', ascending=False)\n",
        "print(mi_df.head(5))\n",
        "\n",
        "## end ##"
      ],
      "metadata": {
        "id": "R0aLraaj5y_s",
        "colab": {
          "base_uri": "https://localhost:8080/"
        },
        "outputId": "c25474eb-7922-4b1f-d16b-d0b14c560956"
      },
      "execution_count": 60,
      "outputs": [
        {
          "output_type": "stream",
          "name": "stdout",
          "text": [
            "     Word  MI_Score\n",
            "3   great  0.078944\n",
            "99  dirty  0.072584\n",
            "0   clean  0.050683\n",
            "42  floor  0.036929\n",
            "92   said  0.035273\n"
          ]
        }
      ]
    },
    {
      "cell_type": "markdown",
      "source": [
        "## (c)"
      ],
      "metadata": {
        "id": "YH3wvoMB7UTI"
      }
    },
    {
      "cell_type": "code",
      "source": [
        "def calc_pmi(df: pd.DataFrame, word: str) -> pd.DataFrame:\n",
        "  ## Your code starts here ##\n",
        "\n",
        "  total_reviews = df.shape[0]\n",
        "  word_reviews = df['reviewColumn'].apply(lambda text: word in text.lower()).sum()\n",
        "  positive_reviews = df[df['groundTruth'] == 'positive'].shape[0]\n",
        "  positive_word_reviews = df[df['groundTruth'] == 'positive']['reviewColumn'].apply(lambda text: word in text.lower()).sum()\n",
        "\n",
        "  #smoothing to prevent division by zero\n",
        "  smoothing_factor = 1\n",
        "  p_word = (word_reviews + smoothing_factor) / (total_reviews + smoothing_factor)\n",
        "  p_positive = (positive_reviews + smoothing_factor) / (total_reviews + smoothing_factor)\n",
        "  p_word_positive = (positive_word_reviews + smoothing_factor) / (total_reviews + smoothing_factor)\n",
        "\n",
        "  pmi = np.log2(p_word_positive / (p_word * p_positive))\n",
        "\n",
        "  return pd.DataFrame({'word': [word], 'PMI': [pmi]})\n",
        "\n",
        "  ## end ##\n",
        "  return pmidf"
      ],
      "metadata": {
        "id": "fIXvPMo_7l3l"
      },
      "execution_count": 61,
      "outputs": []
    },
    {
      "cell_type": "code",
      "source": [
        "# calc_pmi for \"great\"\n",
        "\n",
        "pmi_great = calc_pmi(hotelDf, 'great')\n",
        "pmi_great"
      ],
      "metadata": {
        "id": "RS1OYLyC7yx5",
        "colab": {
          "base_uri": "https://localhost:8080/",
          "height": 89
        },
        "outputId": "a17eca65-dce4-4cbc-f5e5-2c6eb1e3d649"
      },
      "execution_count": 65,
      "outputs": [
        {
          "output_type": "execute_result",
          "data": {
            "text/plain": [
              "    word       PMI\n",
              "0  great  0.545391"
            ],
            "text/html": [
              "\n",
              "  <div id=\"df-df3cc3b6-593e-4268-82c1-00eeeb6915dc\" class=\"colab-df-container\">\n",
              "    <div>\n",
              "<style scoped>\n",
              "    .dataframe tbody tr th:only-of-type {\n",
              "        vertical-align: middle;\n",
              "    }\n",
              "\n",
              "    .dataframe tbody tr th {\n",
              "        vertical-align: top;\n",
              "    }\n",
              "\n",
              "    .dataframe thead th {\n",
              "        text-align: right;\n",
              "    }\n",
              "</style>\n",
              "<table border=\"1\" class=\"dataframe\">\n",
              "  <thead>\n",
              "    <tr style=\"text-align: right;\">\n",
              "      <th></th>\n",
              "      <th>word</th>\n",
              "      <th>PMI</th>\n",
              "    </tr>\n",
              "  </thead>\n",
              "  <tbody>\n",
              "    <tr>\n",
              "      <th>0</th>\n",
              "      <td>great</td>\n",
              "      <td>0.545391</td>\n",
              "    </tr>\n",
              "  </tbody>\n",
              "</table>\n",
              "</div>\n",
              "    <div class=\"colab-df-buttons\">\n",
              "\n",
              "  <div class=\"colab-df-container\">\n",
              "    <button class=\"colab-df-convert\" onclick=\"convertToInteractive('df-df3cc3b6-593e-4268-82c1-00eeeb6915dc')\"\n",
              "            title=\"Convert this dataframe to an interactive table.\"\n",
              "            style=\"display:none;\">\n",
              "\n",
              "  <svg xmlns=\"http://www.w3.org/2000/svg\" height=\"24px\" viewBox=\"0 -960 960 960\">\n",
              "    <path d=\"M120-120v-720h720v720H120Zm60-500h600v-160H180v160Zm220 220h160v-160H400v160Zm0 220h160v-160H400v160ZM180-400h160v-160H180v160Zm440 0h160v-160H620v160ZM180-180h160v-160H180v160Zm440 0h160v-160H620v160Z\"/>\n",
              "  </svg>\n",
              "    </button>\n",
              "\n",
              "  <style>\n",
              "    .colab-df-container {\n",
              "      display:flex;\n",
              "      gap: 12px;\n",
              "    }\n",
              "\n",
              "    .colab-df-convert {\n",
              "      background-color: #E8F0FE;\n",
              "      border: none;\n",
              "      border-radius: 50%;\n",
              "      cursor: pointer;\n",
              "      display: none;\n",
              "      fill: #1967D2;\n",
              "      height: 32px;\n",
              "      padding: 0 0 0 0;\n",
              "      width: 32px;\n",
              "    }\n",
              "\n",
              "    .colab-df-convert:hover {\n",
              "      background-color: #E2EBFA;\n",
              "      box-shadow: 0px 1px 2px rgba(60, 64, 67, 0.3), 0px 1px 3px 1px rgba(60, 64, 67, 0.15);\n",
              "      fill: #174EA6;\n",
              "    }\n",
              "\n",
              "    .colab-df-buttons div {\n",
              "      margin-bottom: 4px;\n",
              "    }\n",
              "\n",
              "    [theme=dark] .colab-df-convert {\n",
              "      background-color: #3B4455;\n",
              "      fill: #D2E3FC;\n",
              "    }\n",
              "\n",
              "    [theme=dark] .colab-df-convert:hover {\n",
              "      background-color: #434B5C;\n",
              "      box-shadow: 0px 1px 3px 1px rgba(0, 0, 0, 0.15);\n",
              "      filter: drop-shadow(0px 1px 2px rgba(0, 0, 0, 0.3));\n",
              "      fill: #FFFFFF;\n",
              "    }\n",
              "  </style>\n",
              "\n",
              "    <script>\n",
              "      const buttonEl =\n",
              "        document.querySelector('#df-df3cc3b6-593e-4268-82c1-00eeeb6915dc button.colab-df-convert');\n",
              "      buttonEl.style.display =\n",
              "        google.colab.kernel.accessAllowed ? 'block' : 'none';\n",
              "\n",
              "      async function convertToInteractive(key) {\n",
              "        const element = document.querySelector('#df-df3cc3b6-593e-4268-82c1-00eeeb6915dc');\n",
              "        const dataTable =\n",
              "          await google.colab.kernel.invokeFunction('convertToInteractive',\n",
              "                                                    [key], {});\n",
              "        if (!dataTable) return;\n",
              "\n",
              "        const docLinkHtml = 'Like what you see? Visit the ' +\n",
              "          '<a target=\"_blank\" href=https://colab.research.google.com/notebooks/data_table.ipynb>data table notebook</a>'\n",
              "          + ' to learn more about interactive tables.';\n",
              "        element.innerHTML = '';\n",
              "        dataTable['output_type'] = 'display_data';\n",
              "        await google.colab.output.renderOutput(dataTable, element);\n",
              "        const docLink = document.createElement('div');\n",
              "        docLink.innerHTML = docLinkHtml;\n",
              "        element.appendChild(docLink);\n",
              "      }\n",
              "    </script>\n",
              "  </div>\n",
              "\n",
              "\n",
              "  <div id=\"id_f651027d-3227-4c91-95db-c88f1854e51e\">\n",
              "    <style>\n",
              "      .colab-df-generate {\n",
              "        background-color: #E8F0FE;\n",
              "        border: none;\n",
              "        border-radius: 50%;\n",
              "        cursor: pointer;\n",
              "        display: none;\n",
              "        fill: #1967D2;\n",
              "        height: 32px;\n",
              "        padding: 0 0 0 0;\n",
              "        width: 32px;\n",
              "      }\n",
              "\n",
              "      .colab-df-generate:hover {\n",
              "        background-color: #E2EBFA;\n",
              "        box-shadow: 0px 1px 2px rgba(60, 64, 67, 0.3), 0px 1px 3px 1px rgba(60, 64, 67, 0.15);\n",
              "        fill: #174EA6;\n",
              "      }\n",
              "\n",
              "      [theme=dark] .colab-df-generate {\n",
              "        background-color: #3B4455;\n",
              "        fill: #D2E3FC;\n",
              "      }\n",
              "\n",
              "      [theme=dark] .colab-df-generate:hover {\n",
              "        background-color: #434B5C;\n",
              "        box-shadow: 0px 1px 3px 1px rgba(0, 0, 0, 0.15);\n",
              "        filter: drop-shadow(0px 1px 2px rgba(0, 0, 0, 0.3));\n",
              "        fill: #FFFFFF;\n",
              "      }\n",
              "    </style>\n",
              "    <button class=\"colab-df-generate\" onclick=\"generateWithVariable('pmi_great')\"\n",
              "            title=\"Generate code using this dataframe.\"\n",
              "            style=\"display:none;\">\n",
              "\n",
              "  <svg xmlns=\"http://www.w3.org/2000/svg\" height=\"24px\"viewBox=\"0 0 24 24\"\n",
              "       width=\"24px\">\n",
              "    <path d=\"M7,19H8.4L18.45,9,17,7.55,7,17.6ZM5,21V16.75L18.45,3.32a2,2,0,0,1,2.83,0l1.4,1.43a1.91,1.91,0,0,1,.58,1.4,1.91,1.91,0,0,1-.58,1.4L9.25,21ZM18.45,9,17,7.55Zm-12,3A5.31,5.31,0,0,0,4.9,8.1,5.31,5.31,0,0,0,1,6.5,5.31,5.31,0,0,0,4.9,4.9,5.31,5.31,0,0,0,6.5,1,5.31,5.31,0,0,0,8.1,4.9,5.31,5.31,0,0,0,12,6.5,5.46,5.46,0,0,0,6.5,12Z\"/>\n",
              "  </svg>\n",
              "    </button>\n",
              "    <script>\n",
              "      (() => {\n",
              "      const buttonEl =\n",
              "        document.querySelector('#id_f651027d-3227-4c91-95db-c88f1854e51e button.colab-df-generate');\n",
              "      buttonEl.style.display =\n",
              "        google.colab.kernel.accessAllowed ? 'block' : 'none';\n",
              "\n",
              "      buttonEl.onclick = () => {\n",
              "        google.colab.notebook.generateWithVariable('pmi_great');\n",
              "      }\n",
              "      })();\n",
              "    </script>\n",
              "  </div>\n",
              "\n",
              "    </div>\n",
              "  </div>\n"
            ],
            "application/vnd.google.colaboratory.intrinsic+json": {
              "type": "dataframe",
              "variable_name": "pmi_great",
              "summary": "{\n  \"name\": \"pmi_great\",\n  \"rows\": 1,\n  \"fields\": [\n    {\n      \"column\": \"word\",\n      \"properties\": {\n        \"dtype\": \"string\",\n        \"samples\": [\n          \"great\"\n        ],\n        \"num_unique_values\": 1,\n        \"semantic_type\": \"\",\n        \"description\": \"\"\n      }\n    },\n    {\n      \"column\": \"PMI\",\n      \"properties\": {\n        \"dtype\": \"number\",\n        \"std\": NaN,\n        \"min\": 0.5453907648195458,\n        \"max\": 0.5453907648195458,\n        \"samples\": [\n          0.5453907648195458\n        ],\n        \"num_unique_values\": 1,\n        \"semantic_type\": \"\",\n        \"description\": \"\"\n      }\n    }\n  ]\n}"
            }
          },
          "metadata": {},
          "execution_count": 65
        }
      ]
    },
    {
      "cell_type": "code",
      "source": [
        "# calc_pmi for \"dirty\"\n",
        "\n",
        "pmi_dirty = calc_pmi(hotelDf, 'dirty')\n",
        "pmi_dirty"
      ],
      "metadata": {
        "id": "a2k1VDJJ8DNL",
        "colab": {
          "base_uri": "https://localhost:8080/",
          "height": 89
        },
        "outputId": "0bcc5f31-40a2-40e2-d396-4df9aef953f1"
      },
      "execution_count": 64,
      "outputs": [
        {
          "output_type": "execute_result",
          "data": {
            "text/plain": [
              "    word       PMI\n",
              "0  dirty -3.400053"
            ],
            "text/html": [
              "\n",
              "  <div id=\"df-d86e9fc9-8c8e-4180-8dcb-6b27277b0fea\" class=\"colab-df-container\">\n",
              "    <div>\n",
              "<style scoped>\n",
              "    .dataframe tbody tr th:only-of-type {\n",
              "        vertical-align: middle;\n",
              "    }\n",
              "\n",
              "    .dataframe tbody tr th {\n",
              "        vertical-align: top;\n",
              "    }\n",
              "\n",
              "    .dataframe thead th {\n",
              "        text-align: right;\n",
              "    }\n",
              "</style>\n",
              "<table border=\"1\" class=\"dataframe\">\n",
              "  <thead>\n",
              "    <tr style=\"text-align: right;\">\n",
              "      <th></th>\n",
              "      <th>word</th>\n",
              "      <th>PMI</th>\n",
              "    </tr>\n",
              "  </thead>\n",
              "  <tbody>\n",
              "    <tr>\n",
              "      <th>0</th>\n",
              "      <td>dirty</td>\n",
              "      <td>-3.400053</td>\n",
              "    </tr>\n",
              "  </tbody>\n",
              "</table>\n",
              "</div>\n",
              "    <div class=\"colab-df-buttons\">\n",
              "\n",
              "  <div class=\"colab-df-container\">\n",
              "    <button class=\"colab-df-convert\" onclick=\"convertToInteractive('df-d86e9fc9-8c8e-4180-8dcb-6b27277b0fea')\"\n",
              "            title=\"Convert this dataframe to an interactive table.\"\n",
              "            style=\"display:none;\">\n",
              "\n",
              "  <svg xmlns=\"http://www.w3.org/2000/svg\" height=\"24px\" viewBox=\"0 -960 960 960\">\n",
              "    <path d=\"M120-120v-720h720v720H120Zm60-500h600v-160H180v160Zm220 220h160v-160H400v160Zm0 220h160v-160H400v160ZM180-400h160v-160H180v160Zm440 0h160v-160H620v160ZM180-180h160v-160H180v160Zm440 0h160v-160H620v160Z\"/>\n",
              "  </svg>\n",
              "    </button>\n",
              "\n",
              "  <style>\n",
              "    .colab-df-container {\n",
              "      display:flex;\n",
              "      gap: 12px;\n",
              "    }\n",
              "\n",
              "    .colab-df-convert {\n",
              "      background-color: #E8F0FE;\n",
              "      border: none;\n",
              "      border-radius: 50%;\n",
              "      cursor: pointer;\n",
              "      display: none;\n",
              "      fill: #1967D2;\n",
              "      height: 32px;\n",
              "      padding: 0 0 0 0;\n",
              "      width: 32px;\n",
              "    }\n",
              "\n",
              "    .colab-df-convert:hover {\n",
              "      background-color: #E2EBFA;\n",
              "      box-shadow: 0px 1px 2px rgba(60, 64, 67, 0.3), 0px 1px 3px 1px rgba(60, 64, 67, 0.15);\n",
              "      fill: #174EA6;\n",
              "    }\n",
              "\n",
              "    .colab-df-buttons div {\n",
              "      margin-bottom: 4px;\n",
              "    }\n",
              "\n",
              "    [theme=dark] .colab-df-convert {\n",
              "      background-color: #3B4455;\n",
              "      fill: #D2E3FC;\n",
              "    }\n",
              "\n",
              "    [theme=dark] .colab-df-convert:hover {\n",
              "      background-color: #434B5C;\n",
              "      box-shadow: 0px 1px 3px 1px rgba(0, 0, 0, 0.15);\n",
              "      filter: drop-shadow(0px 1px 2px rgba(0, 0, 0, 0.3));\n",
              "      fill: #FFFFFF;\n",
              "    }\n",
              "  </style>\n",
              "\n",
              "    <script>\n",
              "      const buttonEl =\n",
              "        document.querySelector('#df-d86e9fc9-8c8e-4180-8dcb-6b27277b0fea button.colab-df-convert');\n",
              "      buttonEl.style.display =\n",
              "        google.colab.kernel.accessAllowed ? 'block' : 'none';\n",
              "\n",
              "      async function convertToInteractive(key) {\n",
              "        const element = document.querySelector('#df-d86e9fc9-8c8e-4180-8dcb-6b27277b0fea');\n",
              "        const dataTable =\n",
              "          await google.colab.kernel.invokeFunction('convertToInteractive',\n",
              "                                                    [key], {});\n",
              "        if (!dataTable) return;\n",
              "\n",
              "        const docLinkHtml = 'Like what you see? Visit the ' +\n",
              "          '<a target=\"_blank\" href=https://colab.research.google.com/notebooks/data_table.ipynb>data table notebook</a>'\n",
              "          + ' to learn more about interactive tables.';\n",
              "        element.innerHTML = '';\n",
              "        dataTable['output_type'] = 'display_data';\n",
              "        await google.colab.output.renderOutput(dataTable, element);\n",
              "        const docLink = document.createElement('div');\n",
              "        docLink.innerHTML = docLinkHtml;\n",
              "        element.appendChild(docLink);\n",
              "      }\n",
              "    </script>\n",
              "  </div>\n",
              "\n",
              "\n",
              "  <div id=\"id_fef946b6-7a37-41b4-bfb7-a463a1d2313e\">\n",
              "    <style>\n",
              "      .colab-df-generate {\n",
              "        background-color: #E8F0FE;\n",
              "        border: none;\n",
              "        border-radius: 50%;\n",
              "        cursor: pointer;\n",
              "        display: none;\n",
              "        fill: #1967D2;\n",
              "        height: 32px;\n",
              "        padding: 0 0 0 0;\n",
              "        width: 32px;\n",
              "      }\n",
              "\n",
              "      .colab-df-generate:hover {\n",
              "        background-color: #E2EBFA;\n",
              "        box-shadow: 0px 1px 2px rgba(60, 64, 67, 0.3), 0px 1px 3px 1px rgba(60, 64, 67, 0.15);\n",
              "        fill: #174EA6;\n",
              "      }\n",
              "\n",
              "      [theme=dark] .colab-df-generate {\n",
              "        background-color: #3B4455;\n",
              "        fill: #D2E3FC;\n",
              "      }\n",
              "\n",
              "      [theme=dark] .colab-df-generate:hover {\n",
              "        background-color: #434B5C;\n",
              "        box-shadow: 0px 1px 3px 1px rgba(0, 0, 0, 0.15);\n",
              "        filter: drop-shadow(0px 1px 2px rgba(0, 0, 0, 0.3));\n",
              "        fill: #FFFFFF;\n",
              "      }\n",
              "    </style>\n",
              "    <button class=\"colab-df-generate\" onclick=\"generateWithVariable('pmi_dirty')\"\n",
              "            title=\"Generate code using this dataframe.\"\n",
              "            style=\"display:none;\">\n",
              "\n",
              "  <svg xmlns=\"http://www.w3.org/2000/svg\" height=\"24px\"viewBox=\"0 0 24 24\"\n",
              "       width=\"24px\">\n",
              "    <path d=\"M7,19H8.4L18.45,9,17,7.55,7,17.6ZM5,21V16.75L18.45,3.32a2,2,0,0,1,2.83,0l1.4,1.43a1.91,1.91,0,0,1,.58,1.4,1.91,1.91,0,0,1-.58,1.4L9.25,21ZM18.45,9,17,7.55Zm-12,3A5.31,5.31,0,0,0,4.9,8.1,5.31,5.31,0,0,0,1,6.5,5.31,5.31,0,0,0,4.9,4.9,5.31,5.31,0,0,0,6.5,1,5.31,5.31,0,0,0,8.1,4.9,5.31,5.31,0,0,0,12,6.5,5.46,5.46,0,0,0,6.5,12Z\"/>\n",
              "  </svg>\n",
              "    </button>\n",
              "    <script>\n",
              "      (() => {\n",
              "      const buttonEl =\n",
              "        document.querySelector('#id_fef946b6-7a37-41b4-bfb7-a463a1d2313e button.colab-df-generate');\n",
              "      buttonEl.style.display =\n",
              "        google.colab.kernel.accessAllowed ? 'block' : 'none';\n",
              "\n",
              "      buttonEl.onclick = () => {\n",
              "        google.colab.notebook.generateWithVariable('pmi_dirty');\n",
              "      }\n",
              "      })();\n",
              "    </script>\n",
              "  </div>\n",
              "\n",
              "    </div>\n",
              "  </div>\n"
            ],
            "application/vnd.google.colaboratory.intrinsic+json": {
              "type": "dataframe",
              "variable_name": "pmi_dirty",
              "summary": "{\n  \"name\": \"pmi_dirty\",\n  \"rows\": 1,\n  \"fields\": [\n    {\n      \"column\": \"word\",\n      \"properties\": {\n        \"dtype\": \"string\",\n        \"samples\": [\n          \"dirty\"\n        ],\n        \"num_unique_values\": 1,\n        \"semantic_type\": \"\",\n        \"description\": \"\"\n      }\n    },\n    {\n      \"column\": \"PMI\",\n      \"properties\": {\n        \"dtype\": \"number\",\n        \"std\": NaN,\n        \"min\": -3.4000530715583652,\n        \"max\": -3.4000530715583652,\n        \"samples\": [\n          -3.4000530715583652\n        ],\n        \"num_unique_values\": 1,\n        \"semantic_type\": \"\",\n        \"description\": \"\"\n      }\n    }\n  ]\n}"
            }
          },
          "metadata": {},
          "execution_count": 64
        }
      ]
    },
    {
      "cell_type": "markdown",
      "source": [
        "## (d)"
      ],
      "metadata": {
        "id": "GmyIUlFK8NiZ"
      }
    },
    {
      "cell_type": "code",
      "source": [
        "# DO NOT MODIFY ANY CODE IN THIS CELL\n",
        "\n",
        "# to make the results more useable, we clean up the tree results shown above.\n",
        "lemmatizer = nltk.WordNetLemmatizer()\n",
        "stemmer = nltk.stem.porter.PorterStemmer()\n",
        "stopword_list = get_stop_words()\n",
        "\n",
        "# generator, create item one a time\n",
        "def get_terms(tree):\n",
        "    for leaf in leaves(tree):\n",
        "\n",
        "        term = [normalise(w) for w,t in leaf if acceptable_word(w) ]\n",
        "        # Phrase only\n",
        "        if len(term)>1:\n",
        "            yield term\n",
        "\n",
        "# generator, generate leaves one by one\n",
        "def leaves(tree):\n",
        "    \"\"\"Finds NP (nounphrase) leaf nodes of a chunk tree.\"\"\"\n",
        "    for subtree in tree.subtrees(filter = lambda t: t.label()=='NP' or t.label()=='JJ' or t.label()=='RB'):\n",
        "        yield subtree.leaves()\n",
        "\n",
        "# stemming, lematizing, lower case...\n",
        "def normalise(word,lemmatizer=lemmatizer, stemmer=stemmer):\n",
        "    \"\"\"Normalises words to lowercase and stems and lemmatizes it.\"\"\"\n",
        "    word = word.lower()\n",
        "    word = stemmer.stem(word)\n",
        "    word = lemmatizer.lemmatize(word)\n",
        "    return word\n",
        "\n",
        "# stop-words and length control\n",
        "def acceptable_word(word, stopword_list=stopword_list):\n",
        "    \"\"\"Checks conditions for acceptable word: length, stopword.\"\"\"\n",
        "    accepted = bool(2 <= len(word) <= 40\n",
        "        and word.lower() not in stopword_list)\n",
        "    return accepted\n",
        "\n",
        "# Flatten phrase lists to get tokens for analysis\n",
        "def flatten_phrase_lists(npTokenList):\n",
        "    finalList =[]\n",
        "    for phrase in npTokenList:\n",
        "        token = ''\n",
        "        for word in phrase:\n",
        "            token += word + ' '\n",
        "        finalList.append(token.rstrip())\n",
        "    return finalList"
      ],
      "metadata": {
        "id": "WKZMHEO-9X6j"
      },
      "execution_count": 66,
      "outputs": []
    },
    {
      "cell_type": "code",
      "source": [
        "grammar = r\"\"\"\n",
        "    NBAR:\n",
        "        {<NN.*|JJ>*<NN.*>}  # Nouns and Adjectives, terminated with Nouns\n",
        "\n",
        "    NP:\n",
        "        {<NBAR>}\n",
        "        {<NBAR><IN><NBAR>}  # Above, connected with in/of/etc...\n",
        "\"\"\"\n",
        "\n",
        "# DO NOT MODIFY THIS CODE\n",
        "chunker = nltk.RegexpParser(grammar)"
      ],
      "metadata": {
        "id": "fM70WJjA-GtF"
      },
      "execution_count": 67,
      "outputs": []
    },
    {
      "cell_type": "code",
      "source": [
        "def getTopKNP(df: pd.DataFrame, kNPs: int) -> list[tuple[str, int]]:\n",
        "  ## Your code starts here ##\n",
        "\n",
        "  #flattening the list of sentences into a list of words with POS tags\n",
        "  sentences = df['reviewColumn'].apply(lambda review: nltk.pos_tag(nltk.word_tokenize(review)))\n",
        "\n",
        "  #extracting noun phrases from tagged sentences\n",
        "  noun_phrases = []\n",
        "  for sent in sentences:\n",
        "    tree = chunker.parse(sent)\n",
        "    terms = get_terms(tree)\n",
        "    noun_phrases.extend(flatten_phrase_lists(terms))\n",
        "\n",
        "  #count the freq of noun phrases\n",
        "  np_counts = Counter(noun_phrases)\n",
        "\n",
        "  #get most common noun phrases\n",
        "  topk = np_counts.most_common(kNPs)\n",
        "\n",
        "  ## end ##\n",
        "  return topk"
      ],
      "metadata": {
        "id": "KMm1Gf-Z8PXY"
      },
      "execution_count": 68,
      "outputs": []
    },
    {
      "cell_type": "code",
      "source": [
        "# Print top 10 most common noun phrases\n",
        "top_noun_phrases = getTopKNP(hotelDf, 50)\n",
        "top_noun_phrases_df = pd.DataFrame(top_noun_phrases, columns=['Noun Phrase', 'Frequency'])\n",
        "print(top_noun_phrases_df.head(10))"
      ],
      "metadata": {
        "id": "W48CEcbN-i-G",
        "colab": {
          "base_uri": "https://localhost:8080/"
        },
        "outputId": "63ad4c08-889d-4bda-af06-466dd82aecfa"
      },
      "execution_count": 69,
      "outputs": [
        {
          "output_type": "stream",
          "name": "stdout",
          "text": [
            "     Noun Phrase  Frequency\n",
            "0     front desk         32\n",
            "1      next time         10\n",
            "2    great locat          9\n",
            "3    coffe maker          9\n",
            "4    comfort bed          8\n",
            "5  air condition          8\n",
            "6       park lot          6\n",
            "7     mini fridg          6\n",
            "8  green acr inn          6\n",
            "9   great experi          5\n"
          ]
        }
      ]
    },
    {
      "cell_type": "markdown",
      "source": [
        "## (e)"
      ],
      "metadata": {
        "id": "jvHKs_fA-s27"
      }
    },
    {
      "cell_type": "code",
      "source": [
        "## Your code starts here ##\n",
        "def pmi(df, phrase, sentiment='positive'):\n",
        "    total_reviews = len(df)\n",
        "    sentiment_reviews = df[df['groundTruth'] == sentiment]\n",
        "    p_phrase = (df['reviewColumn'].str.contains(r'\\b{}\\b'.format(re.escape(phrase)), regex=True, case=False).sum() + 1) / total_reviews\n",
        "    p_sentiment = len(sentiment_reviews) / total_reviews\n",
        "    p_phrase_sentiment = (sentiment_reviews['reviewColumn'].str.contains(r'\\b{}\\b'.format(re.escape(phrase)), regex=True, case=False).sum() + 1) / total_reviews\n",
        "    return np.log2(p_phrase_sentiment / (p_phrase * p_sentiment))\n",
        "\n",
        "#filtering hotels with at least 15 reviews\n",
        "hotels_review_counts = hotelDf.groupby('hotelName').size()\n",
        "hotels_with_enough_reviews = hotels_review_counts[hotels_review_counts >= 15].index\n",
        "\n",
        "#calculating average rating for each hotel\n",
        "hotelDf['ratingScore'] = hotelDf['ratingScore'].astype(float) #making sure ratings are float\n",
        "average_ratings = hotelDf[hotelDf['hotelName'].isin(hotels_with_enough_reviews)].groupby('hotelName')['ratingScore'].mean()\n",
        "\n",
        "#finding the highest and lowest rated hotels\n",
        "highest_rated_hotel = average_ratings.idxmax()\n",
        "lowest_rated_hotel = average_ratings.idxmin()\n",
        "\n",
        "#extracting reviews for the highest and lowest rated hotels\n",
        "highest_rated_reviews = hotelDf[hotelDf['hotelName'] == highest_rated_hotel]\n",
        "lowest_rated_reviews = hotelDf[hotelDf['hotelName'] == lowest_rated_hotel]\n",
        "\n",
        "#extracting noun phrases for these hotels\n",
        "top_noun_phrases_highest = getTopKNP(highest_rated_reviews, 50)\n",
        "top_noun_phrases_lowest = getTopKNP(lowest_rated_reviews, 50)\n",
        "\n",
        "## end ##"
      ],
      "metadata": {
        "id": "nuBHQvlO-5uq"
      },
      "execution_count": 70,
      "outputs": []
    },
    {
      "cell_type": "code",
      "source": [
        "# Top Hotel Positive PMI\n",
        "pmi_noun_phrases_highest_positive = [(phrase, pmi(highest_rated_reviews, phrase, 'positive')) for phrase, _ in top_noun_phrases_highest[:5]]\n",
        "pmi_highest_positive_df = pd.DataFrame(pmi_noun_phrases_highest_positive, columns=['Noun Phrase', 'PMI_Positive'])\n",
        "print(\"Top Hotel Positive PMI:\")\n",
        "print(pmi_highest_positive_df)"
      ],
      "metadata": {
        "id": "nsSSiMZAiG3c",
        "colab": {
          "base_uri": "https://localhost:8080/"
        },
        "outputId": "20e33fdb-1347-405a-c0d4-0ff562f55372"
      },
      "execution_count": 71,
      "outputs": [
        {
          "output_type": "stream",
          "name": "stdout",
          "text": [
            "Top Hotel Positive PMI:\n",
            "   Noun Phrase  PMI_Positive\n",
            "0    resid inn      0.064130\n",
            "1   front desk     -0.257798\n",
            "2    next time     -0.520832\n",
            "3  super clean      0.064130\n",
            "4  great place      0.064130\n"
          ]
        }
      ]
    },
    {
      "cell_type": "code",
      "source": [
        "# Top Hotel Negative PMI\n",
        "pmi_noun_phrases_highest_negative = [(phrase, pmi(highest_rated_reviews, phrase, 'negative')) for phrase, _ in top_noun_phrases_highest[:5]]\n",
        "pmi_highest_negative_df = pd.DataFrame(pmi_noun_phrases_highest_negative, columns=['Noun Phrase', 'PMI_Negative'])\n",
        "print(\"\\nTop Hotel Negative PMI:\")\n",
        "print(pmi_highest_negative_df)"
      ],
      "metadata": {
        "id": "zg0uFu0nipYL",
        "colab": {
          "base_uri": "https://localhost:8080/"
        },
        "outputId": "0c580646-9de0-4fa7-a31f-c08ded40aaf4"
      },
      "execution_count": 72,
      "outputs": [
        {
          "output_type": "stream",
          "name": "stdout",
          "text": [
            "\n",
            "Top Hotel Negative PMI:\n",
            "   Noun Phrase  PMI_Negative\n",
            "0    resid inn      4.523562\n",
            "1   front desk      3.201634\n",
            "2    next time      3.938599\n",
            "3  super clean      2.201634\n",
            "4  great place      2.938599\n"
          ]
        }
      ]
    },
    {
      "cell_type": "code",
      "source": [
        "# Bottom Hotel Positive PMI\n",
        "pmi_noun_phrases_lowest_positive = [(phrase, pmi(lowest_rated_reviews, phrase, 'positive')) for phrase, _ in top_noun_phrases_lowest[:5]]\n",
        "pmi_lowest_positive_df = pd.DataFrame(pmi_noun_phrases_lowest_positive, columns=['Noun Phrase', 'PMI_Positive'])\n",
        "print(\"\\nBottom Hotel Positive PMI:\")\n",
        "print(pmi_lowest_positive_df)"
      ],
      "metadata": {
        "id": "jQtKixqYiqrO",
        "colab": {
          "base_uri": "https://localhost:8080/"
        },
        "outputId": "93c79fac-7d86-4ab3-e257-59196052fb72"
      },
      "execution_count": 73,
      "outputs": [
        {
          "output_type": "stream",
          "name": "stdout",
          "text": [
            "\n",
            "Bottom Hotel Positive PMI:\n",
            "   Noun Phrase  PMI_Positive\n",
            "0   spider web      1.678072\n",
            "1   great view      1.678072\n",
            "2     next day      0.678072\n",
            "3  credit card      0.678072\n",
            "4    queen bed      1.678072\n"
          ]
        }
      ]
    },
    {
      "cell_type": "code",
      "source": [
        "# Bottom Hotel Negative PMI\n",
        "pmi_noun_phrases_lowest_negative = [(phrase, pmi(lowest_rated_reviews, phrase, 'negative')) for phrase, _ in top_noun_phrases_lowest[:5]]\n",
        "pmi_lowest_negative_df = pd.DataFrame(pmi_noun_phrases_lowest_negative, columns=['Noun Phrase', 'PMI_Negative'])\n",
        "print(\"\\nBottom Hotel Negative PMI:\")\n",
        "print(pmi_lowest_negative_df)"
      ],
      "metadata": {
        "id": "UGEBd_EHisIn",
        "colab": {
          "base_uri": "https://localhost:8080/"
        },
        "outputId": "4c9b01be-9426-46ec-802e-a4c39fca3360"
      },
      "execution_count": 74,
      "outputs": [
        {
          "output_type": "stream",
          "name": "stdout",
          "text": [
            "\n",
            "Bottom Hotel Negative PMI:\n",
            "   Noun Phrase  PMI_Negative\n",
            "0   spider web      0.540568\n",
            "1   great view     -1.044394\n",
            "2     next day      0.540568\n",
            "3  credit card      0.540568\n",
            "4    queen bed     -0.459432\n"
          ]
        }
      ]
    },
    {
      "cell_type": "markdown",
      "source": [
        "# Q4"
      ],
      "metadata": {
        "id": "UJ-VsZh1_qdr"
      }
    },
    {
      "cell_type": "markdown",
      "source": [
        "## (a)"
      ],
      "metadata": {
        "id": "U2xLoIr8D_8g"
      }
    },
    {
      "cell_type": "code",
      "source": [
        "## Your code goes here ##\n",
        "grammar = r\"\"\"\n",
        "  NP: {<DT>?<JJ.*>*<NN.*>+}\n",
        "\"\"\"\n",
        "# DO NOT MODIFY THIS CODE\n",
        "chunker = nltk.RegexpParser(grammar)"
      ],
      "metadata": {
        "id": "03gYa3800lod"
      },
      "execution_count": 75,
      "outputs": []
    },
    {
      "cell_type": "markdown",
      "source": [
        "## (b)"
      ],
      "metadata": {
        "id": "GX09F47sB29k"
      }
    },
    {
      "cell_type": "code",
      "source": [
        "## Your code starts here ##\n",
        "\n",
        "top_noun_phrases = getTopKNP(hotelDf, 50)\n",
        "\n",
        "def calculate_pmi_for_phrases(df, phrases, sentiment='positive'):\n",
        "    #calculating total number of reviews\n",
        "    total_reviews = len(df)\n",
        "\n",
        "    #calculating the number of positive or negative reviews\n",
        "    sentiment_reviews = df[df['groundTruth'] == sentiment]\n",
        "    p_sentiment = len(sentiment_reviews) / total_reviews\n",
        "\n",
        "    #calculating PMI for each phrase\n",
        "    pmi_list = []\n",
        "    for phrase, _ in phrases:\n",
        "        p_phrase = sum(df['reviewColumn'].str.contains(r'\\b{}\\b'.format(re.escape(phrase)), regex=True, case=False)) / total_reviews\n",
        "        p_phrase_sentiment = sum(sentiment_reviews['reviewColumn'].str.contains(r'\\b{}\\b'.format(re.escape(phrase)), regex=True, case=False)) / total_reviews\n",
        "        pmi = np.log2(p_phrase_sentiment / (p_phrase * p_sentiment)) if p_phrase_sentiment > 0 else -np.inf\n",
        "        pmi_list.append((phrase, pmi))\n",
        "\n",
        "    return pmi_list\n",
        "\n",
        "## end ##"
      ],
      "metadata": {
        "id": "1WoAmMYUAX4M"
      },
      "execution_count": 76,
      "outputs": []
    },
    {
      "cell_type": "code",
      "source": [
        "# Positive PMI\n",
        "pmi_positive_phrases = calculate_pmi_for_phrases(hotelDf, top_noun_phrases, 'positive')\n",
        "pmi_positive_df = pd.DataFrame(pmi_positive_phrases, columns=['Noun Phrase', 'PMI']).sort_values(by='PMI', ascending=False)\n",
        "print(pmi_positive_df.head(5))"
      ],
      "metadata": {
        "id": "p25gNcxoCKT5",
        "colab": {
          "base_uri": "https://localhost:8080/"
        },
        "outputId": "cf7377f9-56a5-4a51-d699-8a369a0e346a"
      },
      "execution_count": 77,
      "outputs": [
        {
          "output_type": "stream",
          "name": "stdout",
          "text": [
            "        Noun Phrase       PMI\n",
            "15       great view  0.690979\n",
            "39  great breakfast  0.690979\n",
            "11      great place  0.690979\n",
            "19      super clean  0.690979\n",
            "48      water slide  0.690979\n"
          ]
        }
      ]
    },
    {
      "cell_type": "code",
      "source": [
        "# Negative PMI\n",
        "pmi_negative_phrases = calculate_pmi_for_phrases(hotelDf, top_noun_phrases, 'negative')\n",
        "pmi_negative_df = pd.DataFrame(pmi_negative_phrases, columns=['Noun Phrase', 'PMI']).sort_values(by='PMI', ascending=False)\n",
        "print(pmi_negative_df.head(5))\n"
      ],
      "metadata": {
        "id": "vPhkKhE6DsOT",
        "colab": {
          "base_uri": "https://localhost:8080/"
        },
        "outputId": "12e5f93d-b9ee-43d3-a632-6aaf49dd9319"
      },
      "execution_count": 78,
      "outputs": [
        {
          "output_type": "stream",
          "name": "stdout",
          "text": [
            "    Noun Phrase       PMI\n",
            "47  first floor  1.393778\n",
            "46    last time  1.393778\n",
            "17  credit card  1.393778\n",
            "41    next door  0.808816\n",
            "29  third floor  0.808816\n"
          ]
        }
      ]
    },
    {
      "cell_type": "markdown",
      "source": [
        "## (c)\n",
        "\n",
        "Answer: PMI analysis helps to find out noun phrases that are closely related to positive or negative sentiments in hotel reviews. The phrases with high positive PMI usually occur in good reviews, but the ones with high negative PMI are typically found in bad reviews. Analyzing high negative PMI phrases helps to identify frequent guest complaints, providing the hotel with areas to work on.\n",
        "\n"
      ],
      "metadata": {
        "id": "wygeONPXECaU"
      }
    }
  ],
  "metadata": {
    "colab": {
      "provenance": []
    },
    "kernelspec": {
      "display_name": "Python 3",
      "language": "python",
      "name": "python3"
    },
    "language_info": {
      "codemirror_mode": {
        "name": "ipython",
        "version": 3
      },
      "file_extension": ".py",
      "mimetype": "text/x-python",
      "name": "python",
      "nbconvert_exporter": "python",
      "pygments_lexer": "ipython3",
      "version": "3.8.5"
    }
  },
  "nbformat": 4,
  "nbformat_minor": 0
}